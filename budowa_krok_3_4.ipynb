{
 "cells": [
  {
   "metadata": {},
   "cell_type": "markdown",
   "source": [
    "# Milestone 3\n",
    "\n",
    "## Zaawansowane modele i optymalizacja\n",
    "\n",
    "- Modele ensemble\n",
    "- Tuning hiperparametrów\n",
    "\n",
    "## Walidacja i ocena końcowa\n",
    "\n",
    "- Testowanie modelu na zbiorze testowym\n",
    "- Użycie metryk i narzędzi do walidacji\n",
    "\n",
    "## Interpretacja i wyjaśnienie wyników\n",
    "\n",
    "- Feature importance\n",
    "- Wykorzystanie narzędzi interpretacyjnych\n"
   ],
   "id": "9f5c99b57c60ce36"
  },
  {
   "metadata": {
    "ExecuteTime": {
     "end_time": "2025-04-29T14:23:53.527639Z",
     "start_time": "2025-04-29T14:23:52.652371Z"
    }
   },
   "cell_type": "code",
   "source": [
    "import warnings\n",
    "\n",
    "import sklearn.metrics\n",
    "\n",
    "warnings.simplefilter(action='ignore', category=FutureWarning)\n",
    "\n",
    "import numpy as np\n",
    "import pandas as pd\n",
    "import matplotlib.pyplot as plt\n",
    "import seaborn as sns\n",
    "from sklearn.model_selection import train_test_split, cross_validate\n",
    "\n",
    "filepath = \"data/creditcard_csv.csv\"\n",
    "\n",
    "df = pd.read_csv(filepath)\n",
    "\n",
    "X = df.drop('Class', axis=1)\n",
    "y = df['Class'].replace({\"'0'\": 0, \"'1'\": 1})\n",
    "\n",
    "# dzielimy\n",
    "X_train_valid, X_test, y_train_valid, y_test = train_test_split(\n",
    "    X, y, test_size=0.15, stratify=y, random_state=42\n",
    ")"
   ],
   "id": "22055e35144d0781",
   "outputs": [],
   "execution_count": 8
  },
  {
   "metadata": {
    "ExecuteTime": {
     "end_time": "2025-04-29T14:24:08.107043Z",
     "start_time": "2025-04-29T14:24:08.102788Z"
    }
   },
   "cell_type": "code",
   "source": [
    "from sklearn.base import BaseEstimator, TransformerMixin\n",
    "import numpy as np\n",
    "import pandas as pd\n",
    "\n",
    "class CustomTransformer(BaseEstimator, TransformerMixin):\n",
    "    def __init__(self, amount_log=False, Vcolumns_log=False):\n",
    "        self.amount_log = amount_log\n",
    "        self.Vcolumns_log = Vcolumns_log\n",
    "\n",
    "    def fit(self, X, y=None):\n",
    "        return self\n",
    "\n",
    "    def transform(self, X):\n",
    "        X = X.copy()\n",
    "        if not isinstance(X, pd.DataFrame):\n",
    "            X = pd.DataFrame(X)\n",
    "\n",
    "        if 'Time' in X.columns:\n",
    "            X.drop('Time', axis=1, inplace=True)\n",
    "\n",
    "        if self.amount_log and 'Amount' in X.columns:\n",
    "            X['Amount'] = np.log1p(X['Amount'])\n",
    "\n",
    "        if self.Vcolumns_log:\n",
    "            V_cols = [col for col in X.columns if 'V' in col]\n",
    "            X[V_cols] = X[V_cols].apply(np.abs) # wartosc bezwzgledna w celu poprawnego nalozenia logarytmu\n",
    "            X[V_cols] = X[V_cols].apply(np.log1p)\n",
    "        return X\n"
   ],
   "id": "5e9cec511890134a",
   "outputs": [],
   "execution_count": 9
  },
  {
   "metadata": {},
   "cell_type": "markdown",
   "source": [
    "## Funkcja kosztu\n",
    "\n",
    "Funkcja odpowiedzialna za obliczenie, ile straci bank przy odpowiednich błędach modelu. Oczywiście w każdej z tych transakcji mogłaby być inna wartość, dlatego informacje zwrócone z tej funkcji potraktujemy informacyjnie."
   ],
   "id": "2290aeb5c2834a5c"
  },
  {
   "metadata": {
    "ExecuteTime": {
     "end_time": "2025-04-29T14:24:12.183222Z",
     "start_time": "2025-04-29T14:24:12.179342Z"
    }
   },
   "cell_type": "code",
   "source": [
    "# funkcja kosztu\n",
    "\n",
    "class CustomCost:\n",
    "    def __init__(self, X_with_amount):\n",
    "        self.X_with_amount = X_with_amount\n",
    "\n",
    "    def __call__(self, estimator, x, y_true):\n",
    "        y_pred = estimator.predict(X)\n",
    "        amount = self.X_with_amount.loc[y_true.index, 'Amount'].values\n",
    "\n",
    "        fp_cost = 5\n",
    "        tp_cost = 5\n",
    "        tn_cost = 0\n",
    "\n",
    "        total_cost = 0\n",
    "\n",
    "        for true_label, pred_label, fn_cost in zip(y_true, y_pred, amount):\n",
    "            if true_label == 0 and pred_label == 0: #TN\n",
    "                total_cost += tn_cost\n",
    "            elif true_label == 1 and pred_label == 0: #FN\n",
    "                total_cost += fn_cost\n",
    "            elif true_label == 0 and pred_label == 1: #FP\n",
    "                total_cost += fp_cost\n",
    "            elif true_label == 1 and pred_label == 1: #TP\n",
    "                total_cost += tp_cost\n",
    "\n",
    "        return -total_cost # ujemne bo wieksza wartosc = lepsze"
   ],
   "id": "df7a68dd19e24720",
   "outputs": [],
   "execution_count": 10
  },
  {
   "metadata": {},
   "cell_type": "markdown",
   "source": [
    "## Klasyfikator głosujący\n",
    "\n",
    "Wyświetlanie wyników wraz z róznymi miarami. Wyświetlamy dodatowo Precission i Recall. Zależy nam, aby Recall był jak najwyższy (bo bardziej opłaca się robić błędy FP niż FN). Dodatkowo użyjemy z tego powodu miarę F2-score."
   ],
   "id": "1997bc76ca376e74"
  },
  {
   "metadata": {
    "ExecuteTime": {
     "end_time": "2025-04-29T14:24:15.958420Z",
     "start_time": "2025-04-29T14:24:15.954391Z"
    }
   },
   "cell_type": "code",
   "source": [
    "from sklearn.metrics import make_scorer, fbeta_score\n",
    "\n",
    "scoring = {\n",
    "    'recall': 'recall',\n",
    "    'precision': 'precision',\n",
    "    'f2': make_scorer(fbeta_score, beta=2), # f2 daje recall dwa razy ważniejszy od precision\n",
    "    'roc_auc': 'roc_auc',\n",
    "    'cost': CustomCost(X_with_amount=X)\n",
    "}\n",
    "\n",
    "def display_scores(scores):\n",
    "    print(\"Wyniki recall:\", scores['test_recall'])\n",
    "    print(\"Średnia recall:\", scores['test_recall'].mean())\n",
    "    print(\"Odchylenie standardowe recall:\", scores['test_recall'].std())\n",
    "    print(\"Wyniki precision:\", scores['test_precision'])\n",
    "    print(\"Średnia precision:\", scores['test_precision'].mean())\n",
    "    print(\"Odchylenie standardowe precision:\", scores['test_precision'].std())\n",
    "    print(\"Wyniki f2:\", scores['test_f2'])\n",
    "    print(\"Średnia f2:\", scores['test_f2'].mean())\n",
    "    print(\"Odchylenie standardowe f2:\", scores['test_f2'].std())\n",
    "    print(\"Wyniki auc_roc:\", scores['test_roc_auc'])\n",
    "    print(\"Średnia auc_roc:\", scores['test_roc_auc'].mean())\n",
    "    print(\"Odchylenie standardowe auc_roc:\", scores['test_roc_auc'].std())\n",
    "    print(\"Wyniki fraud_cost:\", scores['test_cost'])\n",
    "    print(\"Średnia fraud_cost:\", scores['test_cost'].mean())\n",
    "    print(\"Odchylenie standardowe fraud_cost:\", scores['test_cost'].std())"
   ],
   "id": "ca1c23874cf7c3cd",
   "outputs": [],
   "execution_count": 11
  },
  {
   "metadata": {},
   "cell_type": "code",
   "outputs": [],
   "execution_count": null,
   "source": [
    "from sklearn.ensemble import VotingClassifier, RandomForestClassifier\n",
    "from sklearn.svm import SVC\n",
    "from sklearn.linear_model import LogisticRegression\n",
    "\n",
    "voting_clf = VotingClassifier(\n",
    "    estimators=[('lr', LogisticRegression(max_iter=1000)),\n",
    "                ('rf', RandomForestClassifier()),\n",
    "                ('svc', SVC(kernel='poly', probability=True))],\n",
    "    voting='soft'\n",
    ")\n",
    "\n",
    "cv_voting_clf = cross_validate(voting_clf, X_train_valid, y_train_valid, cv=5, scoring=scoring, n_jobs=-1)\n",
    "\n",
    "display_scores(cv_voting_clf)"
   ],
   "id": "e846d526ba457452"
  },
  {
   "metadata": {},
   "cell_type": "markdown",
   "source": "Bardzo niskie F2 wraz z Recall, reszta prezentuje się nienajgorzej. Nie będzie to kierunek w którym będziemy iść.",
   "id": "d8777b882beb7c"
  },
  {
   "metadata": {},
   "cell_type": "markdown",
   "source": "## Agregacja",
   "id": "93d878158c91a8b7"
  },
  {
   "metadata": {},
   "cell_type": "code",
   "outputs": [],
   "execution_count": null,
   "source": [
    "from sklearn.feature_selection import SelectKBest, f_classif\n",
    "from sklearn.ensemble import BaggingClassifier\n",
    "from sklearn.pipeline import Pipeline\n",
    "from sklearn.tree import DecisionTreeClassifier\n",
    "\n",
    "\n",
    "bag_clf = Pipeline([\n",
    "    ('CustomTransformer', CustomTransformer()),\n",
    "    ('Selectkbest', SelectKBest(score_func=f_classif, k=7)),\n",
    "    ('bagging_clf', BaggingClassifier(\n",
    "    DecisionTreeClassifier(), n_estimators=100,\n",
    "    bootstrap=True, n_jobs=-1),\n",
    "     )\n",
    "])\n",
    "\n",
    "cv_bag_clf = cross_validate(bag_clf, X_train_valid, y_train_valid, scoring=scoring, cv=5)\n",
    "\n",
    "display_scores(cv_bag_clf)"
   ],
   "id": "d063df0ccd787292"
  },
  {
   "metadata": {},
   "cell_type": "markdown",
   "source": [
    "baggin_classifier gdzie k=7, n_estimators=100: \\\n",
    "recall: 0.77 \\\n",
    "precission: 0.91 \\\n",
    "f2: 0.79 \\\n",
    "auc_roc: 0.927 \\\n",
    "cost: -11053,98"
   ],
   "id": "6e906ba4c3eeff1b"
  },
  {
   "metadata": {},
   "cell_type": "code",
   "outputs": [],
   "execution_count": null,
   "source": [
    "from sklearn.feature_selection import SelectKBest, f_classif\n",
    "from sklearn.ensemble import BaggingClassifier\n",
    "from sklearn.pipeline import Pipeline\n",
    "\n",
    "bag_svm_clf = Pipeline([\n",
    "    ('CustomTransformer', CustomTransformer()),\n",
    "    ('Selectkbest', SelectKBest(score_func=f_classif, k=10)),\n",
    "    ('bagging_clf', BaggingClassifier(\n",
    "    SVC(kernel='poly'), n_estimators=10,\n",
    "    bootstrap=True, n_jobs=-1),\n",
    "     )\n",
    "])\n",
    "\n",
    "cv_bag_svm_clf = cross_validate(bag_svm_clf, X_train_valid, y_train_valid, scoring=scoring, cv=5)\n",
    "\n",
    "display_scores(cv_bag_svm_clf)"
   ],
   "id": "679fba1ab0c8303d"
  },
  {
   "metadata": {},
   "cell_type": "markdown",
   "source": [
    "baggin_classifier gdzie k=10, n_estimators = 10: \\\n",
    "recall: 0.70 \\\n",
    "precission: 0.88 \\\n",
    "f2: 0.73 \\\n",
    "auc_roc: 0.89 \\\n",
    "cost: -11016,98\n",
    "\n",
    "Gorsze niż poprzednie"
   ],
   "id": "2c91437df5f2161a"
  },
  {
   "metadata": {},
   "cell_type": "code",
   "outputs": [],
   "execution_count": null,
   "source": [
    "from sklearn.ensemble import GradientBoostingClassifier\n",
    "\n",
    "xgb_clf = Pipeline([\n",
    "    ('CustomTransformer', CustomTransformer()),\n",
    "    ('SelectKBest', SelectKBest(score_func=f_classif, k=10)),\n",
    "    ('xgb_clf', GradientBoostingClassifier())\n",
    "])\n",
    "\n",
    "cv_xgb_clf = cross_validate(xgb_clf, X_train_valid, y_train_valid, scoring=scoring, cv=5, n_jobs=-1)\n",
    "\n",
    "display_scores(cv_xgb_clf)"
   ],
   "id": "fbcbbdbc2ef20eb9"
  },
  {
   "metadata": {},
   "cell_type": "markdown",
   "source": [
    "gradientboostingclassifier; k=10: \\\n",
    "recall: 0.53 \\\n",
    "precission: 0.78 \\\n",
    "f2: 0.56 \\\n",
    "auc_roc: 0.70 \\\n",
    "cost: -10943,98\n",
    "\n",
    "Bardzo słabe, przejdźmy do lasów losowych oraz extra-trees"
   ],
   "id": "9995fe95155374f3"
  },
  {
   "metadata": {},
   "cell_type": "markdown",
   "source": [
    "## Losowe lasy oraz zespół Extra-Trees\n",
    "\n",
    "Nowa funkcja do printowania wyników:"
   ],
   "id": "313158fa04465557"
  },
  {
   "metadata": {},
   "cell_type": "code",
   "outputs": [],
   "execution_count": null,
   "source": [
    "def print_scores(scores):\n",
    "    for f2, recall, precision, auc_roc, cost, params in zip(scores['mean_test_f2'], scores['mean_test_recall'],\n",
    "                                                  scores['mean_test_precision'], scores['mean_test_roc_auc'],\n",
    "                                                  scores['mean_test_cost'], scores['params']):\n",
    "        print(params,\n",
    "            '\\nf2: ', f2,\n",
    "            'recall: ', recall,\n",
    "            'cost: ', cost,\n",
    "            'auc_roc: ', auc_roc,\n",
    "            'precision: ', precision, '\\n')"
   ],
   "id": "80df03df19b3974d"
  },
  {
   "metadata": {},
   "cell_type": "markdown",
   "source": "### Losowe lasy",
   "id": "c8dca85e31bedb16"
  },
  {
   "metadata": {},
   "cell_type": "markdown",
   "source": [
    "#### Randomized Search\n",
    "\n",
    "Na początku robimy przeszukiwanie losowe w celu obrania jakiegoś kierunku"
   ],
   "id": "640c14a14e6b48ae"
  },
  {
   "metadata": {},
   "cell_type": "code",
   "outputs": [],
   "execution_count": null,
   "source": [
    "from sklearn.model_selection import RandomizedSearchCV\n",
    "\n",
    "rnd_clf = Pipeline([\n",
    "    ('CustomTransformer', CustomTransformer()),\n",
    "    ('SelectKBest', SelectKBest(score_func=f_classif)),\n",
    "    ('Classifier', RandomForestClassifier(n_jobs=-1, random_state=42)),\n",
    "])\n",
    "\n",
    "param_grid = {\n",
    "    'SelectKBest__k': [5,8,10,13,15],\n",
    "    'Classifier__n_estimators': [50,100,200,300,400,500],\n",
    "    'Classifier__max_depth': [5,10,15,20],\n",
    "    'Classifier__min_samples_split': [2,3,4],\n",
    "    'Classifier__min_samples_leaf': [1,2,3,4],\n",
    "    'Classifier__bootstrap': [True,False]\n",
    "}\n",
    "\n",
    "rnd_random_search = RandomizedSearchCV(rnd_clf, param_grid, cv=5, n_jobs=-1, scoring=scoring, refit=False, return_train_score=True, n_iter=20)\n",
    "\n",
    "rnd_random_search.fit(X_train_valid, y_train_valid)"
   ],
   "id": "c1c2c4d18d4e1552"
  },
  {
   "metadata": {},
   "cell_type": "code",
   "outputs": [],
   "execution_count": null,
   "source": "print_scores(rnd_random_search.cv_results_)",
   "id": "c63e3a7fefd77392"
  },
  {
   "metadata": {},
   "cell_type": "code",
   "outputs": [],
   "execution_count": null,
   "source": "pd.DataFrame(rnd_random_search.cv_results_).to_excel('grid_search_results/random_search.xlsx', index=False)",
   "id": "19555efe6888b59f"
  },
  {
   "metadata": {},
   "cell_type": "markdown",
   "source": [
    "##### Odczyt wyników\n",
    "Liczba używanych features nie koniecznie oznaczała lepsze wyniki. Jednak małe wartości tj. 5 oraz 8 nie działają zbyt dobrze.\n",
    "\n",
    " Zbyt głebokie drzewa/lasy zmniejszają precyzję modelu.\n",
    "\n",
    " Większa wartość hiperparametru \"min_samples_split\" pozytywnie wpływa na pełność (recall).\n",
    "\n",
    "  Wartości kosztu są bardzo podobne dla wszystkich modeli.\n",
    "  \n",
    "   Wartość bootstrap ustawiona na True negatywnie wpływa na jakość modelu."
   ],
   "id": "a89efea231f05b32"
  },
  {
   "metadata": {},
   "cell_type": "markdown",
   "source": "#### Grid Search",
   "id": "8a08acba6d16873b"
  },
  {
   "metadata": {},
   "cell_type": "code",
   "outputs": [],
   "execution_count": null,
   "source": [
    "from sklearn.model_selection import GridSearchCV\n",
    "\n",
    "rnd_clf = Pipeline([\n",
    "    ('CustomTransformer', CustomTransformer()),\n",
    "    ('SelectKBest', SelectKBest(score_func=f_classif)),\n",
    "    ('Classifier', RandomForestClassifier(n_jobs=-1, random_state=42)),\n",
    "])\n",
    "\n",
    "param_grid = [\n",
    "    {'SelectKBest__k': [6,8,10]},\n",
    "    {'Classifier__n_estimators': [50,100,200], 'Classifier__max_depth': [5,10]},\n",
    "    {'Classifier__criterion': ['gini', 'entropy']},\n",
    "]\n",
    "\n",
    "rnd_grid_search = GridSearchCV(rnd_clf, param_grid, cv=5, n_jobs=-1, scoring=scoring, refit=False, return_train_score=True)\n",
    "\n",
    "rnd_grid_search.fit(X_train_valid, y_train_valid)"
   ],
   "id": "6222b812315bb9e1"
  },
  {
   "metadata": {},
   "cell_type": "code",
   "outputs": [],
   "execution_count": null,
   "source": "print_scores(rnd_grid_search.cv_results_)",
   "id": "6918f5669293a717"
  },
  {
   "metadata": {},
   "cell_type": "code",
   "outputs": [],
   "execution_count": null,
   "source": "pd.DataFrame(rnd_grid_search.cv_results_).to_excel('grid_search_results/rnd_grid_search_1.xlsx', index=False)",
   "id": "85bddd4592473e82"
  },
  {
   "metadata": {},
   "cell_type": "code",
   "outputs": [],
   "execution_count": null,
   "source": [
    "param_grid = [\n",
    "    {'SelectKBest__k': [10, 12, 14, 16],\n",
    "     'Classifier__n_estimators': [200, 300, 400],\n",
    "     'Classifier__max_depth': [8,10,12],\n",
    "     'Classifier__criterion': ['entropy']},\n",
    "    {'Classifier__min_samples_split': [2,3,4,5,6],\n",
    "     'Classifier__criterion': ['entropy'],\n",
    "     'SelectKBest__k': [10]},\n",
    "    {'Classifier__min_samples_leaf': [1,2,3,4],\n",
    "     'Classifier__criterion': ['entropy'],\n",
    "     'SelectKBest__k': [10]}\n",
    "]\n",
    "\n",
    "rnd_grid_search = GridSearchCV(rnd_clf, param_grid, cv=5, n_jobs=-1, scoring=scoring, refit=False, return_train_score=True)\n",
    "\n",
    "rnd_grid_search.fit(X_train_valid, y_train_valid)"
   ],
   "id": "86e402546a658cf7"
  },
  {
   "metadata": {},
   "cell_type": "code",
   "outputs": [],
   "execution_count": null,
   "source": "print_scores(rnd_grid_search.cv_results_)",
   "id": "428958511a719eb3"
  },
  {
   "metadata": {},
   "cell_type": "code",
   "outputs": [],
   "execution_count": null,
   "source": "pd.DataFrame(rnd_grid_search.cv_results_).to_excel('grid_search_results/rnd_grid_search_2.xlsx', index=False)",
   "id": "a21871e4ae2c53f"
  },
  {
   "metadata": {},
   "cell_type": "code",
   "outputs": [],
   "execution_count": null,
   "source": [
    "param_grid = [\n",
    "    {'SelectKBest__k': [9, 10, 11],\n",
    "     'Classifier__n_estimators': [300],\n",
    "     'Classifier__max_depth': [12,14,15]},\n",
    "    {'Classifier__n_estimators': [350, 400, 500]},\n",
    "]\n",
    "\n",
    "rnd_clf = Pipeline([\n",
    "    ('CustomTransformer', CustomTransformer()),\n",
    "    ('SelectKBest', SelectKBest(score_func=f_classif)),\n",
    "    ('Classifier', RandomForestClassifier(n_jobs=-1, random_state=42, criterion='entropy')), # na pewno entropia jako kryterium\n",
    "])\n",
    "\n",
    "rnd_grid_search = GridSearchCV(rnd_clf, param_grid, cv=5, n_jobs=-1, scoring=scoring, refit=False, return_train_score=True)\n",
    "\n",
    "rnd_grid_search.fit(X_train_valid, y_train_valid)"
   ],
   "id": "56b04b47c9f02989"
  },
  {
   "metadata": {},
   "cell_type": "code",
   "outputs": [],
   "execution_count": null,
   "source": "print_scores(rnd_grid_search.cv_results_)",
   "id": "895366220ae42774"
  },
  {
   "metadata": {},
   "cell_type": "code",
   "outputs": [],
   "execution_count": null,
   "source": "pd.DataFrame(rnd_grid_search.cv_results_).to_excel('grid_search_results/rnd_grid_search_3.xlsx', index=False)",
   "id": "3640bfd495a807cd"
  },
  {
   "metadata": {},
   "cell_type": "code",
   "outputs": [],
   "execution_count": null,
   "source": [
    "param_grid = [\n",
    "    {'Classifier__max_depth': [12,13,14],\n",
    "    'Classifier__n_estimators': [275,300,325,350]}\n",
    "]\n",
    "\n",
    "rnd_clf = Pipeline([\n",
    "    ('CustomTransformer', CustomTransformer()),\n",
    "    ('SelectKBest', SelectKBest(score_func=f_classif, k=10)),\n",
    "    ('Classifier', RandomForestClassifier(n_jobs=-1, random_state=42, criterion='entropy')), # na pewno entropia jako kryterium\n",
    "])\n",
    "\n",
    "rnd_grid_search = GridSearchCV(rnd_clf, param_grid, cv=5, n_jobs=-1, scoring=scoring, refit=False, return_train_score=True)\n",
    "\n",
    "rnd_grid_search.fit(X_train_valid, y_train_valid)"
   ],
   "id": "9e3d3366f37fa555"
  },
  {
   "metadata": {},
   "cell_type": "code",
   "outputs": [],
   "execution_count": null,
   "source": "print_scores(rnd_grid_search.cv_results_)",
   "id": "c50f5183faf59a62"
  },
  {
   "metadata": {},
   "cell_type": "code",
   "outputs": [],
   "execution_count": null,
   "source": "pd.DataFrame(rnd_grid_search.cv_results_).to_excel('grid_search_results/rnd_grid_search_4.xlsx', index=False)",
   "id": "c2e17360cdeaa871"
  },
  {
   "metadata": {},
   "cell_type": "code",
   "outputs": [],
   "execution_count": null,
   "source": [
    "rnd_clf = Pipeline([\n",
    "    ('CustomTransformer', CustomTransformer()),\n",
    "    ('SelectKBest', SelectKBest(score_func=f_classif, k=10)),\n",
    "    ('Classifier', RandomForestClassifier(n_jobs=-1, random_state=42, n_estimators=275, max_depth=14, criterion='entropy')),\n",
    "])\n",
    "\n",
    "param_grid = [\n",
    "    {'Classifier__min_samples_leaf': [1,2],\n",
    "    'Classifier__min_samples_split': [2,5,6]}\n",
    "]\n",
    "\n",
    "rnd_grid_search = GridSearchCV(rnd_clf, param_grid, cv=5, n_jobs=-1, scoring=scoring, refit=False, return_train_score=True)\n",
    "\n",
    "rnd_grid_search.fit(X_train_valid, y_train_valid)"
   ],
   "id": "fc460b2434279255"
  },
  {
   "metadata": {},
   "cell_type": "code",
   "outputs": [],
   "execution_count": null,
   "source": "print_scores(rnd_grid_search.cv_results_)",
   "id": "74b5f13b8a5cbe09"
  },
  {
   "metadata": {},
   "cell_type": "code",
   "outputs": [],
   "execution_count": null,
   "source": "pd.DataFrame(rnd_grid_search.cv_results_).to_excel('grid_search_results/rnd_grid_search_5.xlsx', index=False)",
   "id": "cca047bbb6f4cbcc"
  },
  {
   "metadata": {},
   "cell_type": "markdown",
   "source": "Finalnie",
   "id": "68012244ec9137c"
  },
  {
   "metadata": {
    "ExecuteTime": {
     "end_time": "2025-04-29T14:25:54.052641Z",
     "start_time": "2025-04-29T14:25:54.049147Z"
    }
   },
   "cell_type": "code",
   "source": [
    "from sklearn.ensemble import RandomForestClassifier\n",
    "from sklearn.feature_selection import SelectKBest, f_classif\n",
    "from sklearn.pipeline import Pipeline\n",
    "\n",
    "rnd_clf = Pipeline([\n",
    "    ('CustomTransformer', CustomTransformer()),\n",
    "    ('SelectKBest', SelectKBest(score_func=f_classif, k=10)),\n",
    "    ('Classifier', RandomForestClassifier(n_jobs=-1, random_state=42, n_estimators=275, max_depth=14, criterion='entropy', min_samples_split=2, min_samples_leaf=1)),\n",
    "])"
   ],
   "id": "a5b23547344128eb",
   "outputs": [],
   "execution_count": 12
  },
  {
   "metadata": {
    "ExecuteTime": {
     "end_time": "2025-04-29T14:27:39.228078Z",
     "start_time": "2025-04-29T14:26:44.814208Z"
    }
   },
   "cell_type": "code",
   "source": [
    "cv_rnd_clf = cross_validate(rnd_clf, X_train_valid, y_train_valid, cv=5, n_jobs=-1, scoring=scoring)\n",
    "\n",
    "display_scores(cv_rnd_clf)"
   ],
   "id": "20424c5a8089f31b",
   "outputs": [
    {
     "name": "stdout",
     "output_type": "stream",
     "text": [
      "Wyniki recall: [0.85542169 0.81927711 0.77380952 0.72619048 0.80952381]\n",
      "Średnia recall: 0.7968445209409065\n",
      "Odchylenie standardowe recall: 0.043858579153692866\n",
      "Wyniki precision: [0.92207792 0.93150685 0.92857143 0.953125   0.95774648]\n",
      "Średnia precision: 0.9386055357675316\n",
      "Odchylenie standardowe precision: 0.014152223962473955\n",
      "Wyniki f2: [0.86797066 0.83950617 0.80049261 0.7625     0.83538084]\n",
      "Średnia f2: 0.8211700558408959\n",
      "Odchylenie standardowe f2: 0.036326817062199986\n",
      "Wyniki auc_roc: [0.98948631 0.99029843 0.9731008  0.98064937 0.96802084]\n",
      "Średnia auc_roc: 0.9803111506061825\n",
      "Odchylenie standardowe auc_roc: 0.008798688997741312\n",
      "Wyniki fraud_cost: [ -9490.59 -10237.81 -13995.95  -7140.62 -14404.94]\n",
      "Średnia fraud_cost: -11053.982\n",
      "Odchylenie standardowe fraud_cost: 2767.9894744409708\n"
     ]
    }
   ],
   "execution_count": 14
  },
  {
   "metadata": {},
   "cell_type": "markdown",
   "source": [
    "RandomForestClassifier: \\\n",
    "recall: 0.79 \\\n",
    "precission: 0.93 \\\n",
    "f2: 0.82 \\\n",
    "auc_roc: 0.98 \\\n",
    "cost: -11053"
   ],
   "id": "c4d878b98440a188"
  },
  {
   "metadata": {},
   "cell_type": "markdown",
   "source": [
    "### Extra-Trees\n",
    "\n",
    "#### Randomized Search"
   ],
   "id": "cbead1a09d825ce2"
  },
  {
   "metadata": {},
   "cell_type": "code",
   "outputs": [],
   "execution_count": null,
   "source": [
    "from sklearn.ensemble import ExtraTreesClassifier\n",
    "\n",
    "ext_clf = Pipeline([\n",
    "    ('CustomTransformer', CustomTransformer()),\n",
    "    ('SelectKBest', SelectKBest(score_func=f_classif)),\n",
    "    ('Classifier', ExtraTreesClassifier(n_jobs=-1, random_state=42)),\n",
    "])\n",
    "\n",
    "param_grid = {\n",
    "    'SelectKBest__k': [5,8,10,13,15],\n",
    "    'Classifier__n_estimators': [50,100,200,300,400,500],\n",
    "    'Classifier__max_depth': [5,10,15,20,None],\n",
    "    'Classifier__min_samples_split': [2,3,4],\n",
    "    'Classifier__min_samples_leaf': [1,2,3,4],\n",
    "    'Classifier__bootstrap': [True,False],\n",
    "    'Classifier__criterion': ['gini','entropy'],\n",
    "}\n",
    "\n",
    "ext_random_search = RandomizedSearchCV(ext_clf, param_grid, cv=5, n_jobs=-1, scoring=scoring, refit=False, return_train_score=True, n_iter=50)\n",
    "\n",
    "ext_random_search.fit(X_train_valid, y_train_valid)"
   ],
   "id": "d394c54bf5098a8d"
  },
  {
   "metadata": {},
   "cell_type": "code",
   "outputs": [],
   "execution_count": null,
   "source": "pd.DataFrame(ext_random_search.cv_results_).to_excel('grid_search_results/ext_random_search.xlsx', index=False)",
   "id": "c27764a55ce8cd48"
  },
  {
   "metadata": {},
   "cell_type": "markdown",
   "source": [
    "##### Odczyt wyników\n",
    "\n",
    "Uczy się o wiele szybciej. Wydaje się że głębsze drzewa wydają się najlepsze. O reszcie hiperparametrów, trudno się wypowiedzieć."
   ],
   "id": "49d198b6641a5b7c"
  },
  {
   "metadata": {},
   "cell_type": "code",
   "outputs": [],
   "execution_count": null,
   "source": [
    "from sklearn.ensemble import ExtraTreesClassifier\n",
    "\n",
    "ext_clf = Pipeline([\n",
    "    ('CustomTransformer', CustomTransformer()),\n",
    "    ('SelectKBest', SelectKBest(score_func=f_classif)),\n",
    "    ('Classifier', ExtraTreesClassifier(n_jobs=-1, random_state=42)),\n",
    "])\n",
    "\n",
    "param_grid = [\n",
    "    {'SelectKBest__k': [5,10,15],\n",
    "     'Classifier__n_estimators': [100,200,300],\n",
    "     'Classifier__max_depth': [10,15,None],\n",
    "     'Classifier__criterion': ['gini', 'entropy']},\n",
    "     {'Classifier__min_samples_leaf': [1,2],\n",
    "     'Classifier__min_samples_split': [2,3,4]},\n",
    "]\n",
    "\n",
    "ext_grid_search = GridSearchCV(ext_clf, param_grid, cv=5, n_jobs=-1, scoring=scoring, refit=False, return_train_score=True)\n",
    "\n",
    "ext_grid_search.fit(X_train_valid, y_train_valid)"
   ],
   "id": "c6971d27bc475c5e"
  },
  {
   "metadata": {},
   "cell_type": "code",
   "outputs": [],
   "execution_count": null,
   "source": "print_scores(ext_grid_search.cv_results_)",
   "id": "2ae1637ed56dca1e"
  },
  {
   "metadata": {},
   "cell_type": "code",
   "outputs": [],
   "execution_count": null,
   "source": "pd.DataFrame(ext_grid_search.cv_results_).to_excel('grid_search_results/ext_grid_search_1.xlsx', index=False)",
   "id": "e96dbfb6ce552f0f"
  },
  {
   "metadata": {},
   "cell_type": "code",
   "outputs": [],
   "execution_count": null,
   "source": [
    "from sklearn.ensemble import ExtraTreesClassifier\n",
    "\n",
    "ext_clf = Pipeline([\n",
    "    ('CustomTransformer', CustomTransformer()),\n",
    "    ('SelectKBest', SelectKBest(score_func=f_classif)),\n",
    "    ('Classifier', ExtraTreesClassifier(n_jobs=-1, random_state=42, max_depth=None, criterion='gini', min_samples_split=2, min_samples_leaf=1)),\n",
    "])\n",
    "\n",
    "param_grid = [\n",
    "    {'SelectKBest__k': [8,10,12,14,16],\n",
    "     'Classifier__n_estimators': [50,100,200,300,400,500],},\n",
    "]\n",
    "\n",
    "ext_grid_search = GridSearchCV(ext_clf, param_grid, cv=5, n_jobs=-1, scoring=scoring, refit=False, return_train_score=True)\n",
    "\n",
    "ext_grid_search.fit(X_train_valid, y_train_valid)"
   ],
   "id": "9b8a045dc0c3d2b5"
  },
  {
   "metadata": {},
   "cell_type": "code",
   "outputs": [],
   "execution_count": null,
   "source": "print_scores(ext_grid_search.cv_results_)",
   "id": "c5c1bbfa003cdbd1"
  },
  {
   "metadata": {},
   "cell_type": "code",
   "outputs": [],
   "execution_count": null,
   "source": "pd.DataFrame(ext_grid_search.cv_results_).to_excel('grid_search_results/ext_grid_search_2.xlsx', index=False)",
   "id": "69edcd45e319c794"
  },
  {
   "metadata": {},
   "cell_type": "markdown",
   "source": "Wyniki są dość rozstrzelone. Dobre wyniki f2-score osiągane są dla parametrów daleko od siebie. Wybierzemy najlepsze.",
   "id": "ff567067c18e53c1"
  },
  {
   "metadata": {},
   "cell_type": "markdown",
   "source": [
    "criterion = 'entropy'\\\n",
    "max_depth = 19\\\n",
    "n_estimators = 250"
   ],
   "id": "45d1c91a3c8cd9c2"
  },
  {
   "metadata": {
    "ExecuteTime": {
     "end_time": "2025-04-29T14:26:27.662295Z",
     "start_time": "2025-04-29T14:26:27.659304Z"
    }
   },
   "cell_type": "code",
   "source": [
    "from sklearn.pipeline import Pipeline\n",
    "from sklearn.feature_selection import SelectKBest, f_classif\n",
    "from sklearn.ensemble import ExtraTreesClassifier\n",
    "\n",
    "ext_clf = Pipeline([\n",
    "    ('CustomTransformer', CustomTransformer()),\n",
    "    ('SelectKBest', SelectKBest(score_func=f_classif, k=10)),\n",
    "    ('Classifier', ExtraTreesClassifier(n_jobs=-1, random_state=42, max_depth=None, criterion='gini', min_samples_split=2, min_samples_leaf=1,\n",
    "                                        n_estimators=100)),\n",
    "])"
   ],
   "id": "ffe7537f9c88e023",
   "outputs": [],
   "execution_count": 13
  },
  {
   "metadata": {
    "ExecuteTime": {
     "end_time": "2025-04-29T14:27:56.566370Z",
     "start_time": "2025-04-29T14:27:51.006230Z"
    }
   },
   "cell_type": "code",
   "source": [
    "cv_ext_clf = cross_validate(ext_clf, X_train_valid, y_train_valid, cv=5, n_jobs=-1, scoring=scoring)\n",
    "\n",
    "display_scores(cv_ext_clf)"
   ],
   "id": "2ede05c6ce4b22a6",
   "outputs": [
    {
     "name": "stdout",
     "output_type": "stream",
     "text": [
      "Wyniki recall: [0.85542169 0.81927711 0.76190476 0.71428571 0.82142857]\n",
      "Średnia recall: 0.7944635685599541\n",
      "Odchylenie standardowe recall: 0.050094469795593316\n",
      "Wyniki precision: [0.95945946 0.94444444 0.91428571 0.96774194 0.94520548]\n",
      "Średnia precision: 0.9462274066251087\n",
      "Odchylenie standardowe precision: 0.018234347660471977\n",
      "Wyniki f2: [0.87438424 0.84158416 0.78817734 0.75376884 0.84352078]\n",
      "Średnia f2: 0.8202870722775429\n",
      "Odchylenie standardowe f2: 0.04330261865692104\n",
      "Wyniki auc_roc: [0.97478938 0.95647119 0.92674494 0.94499654 0.95101814]\n",
      "Średnia auc_roc: 0.9508040362005075\n",
      "Odchylenie standardowe auc_roc: 0.01562066785531258\n",
      "Wyniki fraud_cost: [ -9490.59 -10237.81 -13990.95  -7135.62 -14409.94]\n",
      "Średnia fraud_cost: -11052.982\n",
      "Odchylenie standardowe fraud_cost: 2769.553110993902\n"
     ]
    }
   ],
   "execution_count": 15
  },
  {
   "metadata": {},
   "cell_type": "markdown",
   "source": [
    "ExtraTreesClassifier dla najlepszych parametrów: \\\n",
    "recall: 0.79 \\\n",
    "precission: 0.94 \\\n",
    "f2: 0.82 \\\n",
    "auc_roc: 0.95 \\\n",
    "cost: -11052.98"
   ],
   "id": "377a76f742d657eb"
  },
  {
   "metadata": {},
   "cell_type": "markdown",
   "source": "### Porównanie modeli",
   "id": "c15074078c29b1a9"
  },
  {
   "metadata": {},
   "cell_type": "code",
   "outputs": [],
   "execution_count": null,
   "source": "display_scores(cv_ext_clf)",
   "id": "fb3ee845ad123e18"
  },
  {
   "metadata": {},
   "cell_type": "code",
   "outputs": [],
   "execution_count": null,
   "source": "display_scores(cv_rnd_clf)",
   "id": "881ac6e20a581b53"
  },
  {
   "metadata": {},
   "cell_type": "markdown",
   "source": "RandomForest ma delikatnie lepsze wyniki, ale są one mocno zbliżone do wyników dawanych przez Extra Trees, mimo bardzo dużych różnicach w czasie nauki modeli na korzyść ExtraTrees.",
   "id": "360b802590872a3"
  },
  {
   "metadata": {},
   "cell_type": "markdown",
   "source": "### Feature importance",
   "id": "d55f8dbc06e1237c"
  },
  {
   "metadata": {
    "ExecuteTime": {
     "end_time": "2025-04-29T14:28:22.517107Z",
     "start_time": "2025-04-29T14:28:22.514319Z"
    }
   },
   "cell_type": "code",
   "source": [
    "def print_feature_importances(clf):\n",
    "    selectkbest = clf.named_steps['SelectKBest']\n",
    "    selected_features_mask = selectkbest.get_support()\n",
    "\n",
    "    rf_model = clf.named_steps['Classifier']\n",
    "    feature_importances = rf_model.feature_importances_\n",
    "\n",
    "    original_feature_importances = np.zeros(X_train_valid.shape[1]-1)\n",
    "    original_feature_importances[selected_features_mask] = feature_importances\n",
    "\n",
    "    for importance, feature in sorted(zip(original_feature_importances, X_train_valid.columns, ), reverse=True):\n",
    "        if importance > 0:\n",
    "            print(f\"{feature}: {importance}\")"
   ],
   "id": "bc415cef35321baa",
   "outputs": [],
   "execution_count": 16
  },
  {
   "metadata": {
    "ExecuteTime": {
     "end_time": "2025-04-29T14:28:43.611623Z",
     "start_time": "2025-04-29T14:28:29.079443Z"
    }
   },
   "cell_type": "code",
   "source": [
    "clf = rnd_clf\n",
    "\n",
    "clf.fit(X_train_valid, y_train_valid)"
   ],
   "id": "5131fce4754a0387",
   "outputs": [
    {
     "data": {
      "text/plain": [
       "Pipeline(steps=[('CustomTransformer', CustomTransformer()),\n",
       "                ('SelectKBest', SelectKBest()),\n",
       "                ('Classifier',\n",
       "                 RandomForestClassifier(criterion='entropy', max_depth=14,\n",
       "                                        n_estimators=275, n_jobs=-1,\n",
       "                                        random_state=42))])"
      ],
      "text/html": [
       "<style>#sk-container-id-1 {\n",
       "  /* Definition of color scheme common for light and dark mode */\n",
       "  --sklearn-color-text: #000;\n",
       "  --sklearn-color-text-muted: #666;\n",
       "  --sklearn-color-line: gray;\n",
       "  /* Definition of color scheme for unfitted estimators */\n",
       "  --sklearn-color-unfitted-level-0: #fff5e6;\n",
       "  --sklearn-color-unfitted-level-1: #f6e4d2;\n",
       "  --sklearn-color-unfitted-level-2: #ffe0b3;\n",
       "  --sklearn-color-unfitted-level-3: chocolate;\n",
       "  /* Definition of color scheme for fitted estimators */\n",
       "  --sklearn-color-fitted-level-0: #f0f8ff;\n",
       "  --sklearn-color-fitted-level-1: #d4ebff;\n",
       "  --sklearn-color-fitted-level-2: #b3dbfd;\n",
       "  --sklearn-color-fitted-level-3: cornflowerblue;\n",
       "\n",
       "  /* Specific color for light theme */\n",
       "  --sklearn-color-text-on-default-background: var(--sg-text-color, var(--theme-code-foreground, var(--jp-content-font-color1, black)));\n",
       "  --sklearn-color-background: var(--sg-background-color, var(--theme-background, var(--jp-layout-color0, white)));\n",
       "  --sklearn-color-border-box: var(--sg-text-color, var(--theme-code-foreground, var(--jp-content-font-color1, black)));\n",
       "  --sklearn-color-icon: #696969;\n",
       "\n",
       "  @media (prefers-color-scheme: dark) {\n",
       "    /* Redefinition of color scheme for dark theme */\n",
       "    --sklearn-color-text-on-default-background: var(--sg-text-color, var(--theme-code-foreground, var(--jp-content-font-color1, white)));\n",
       "    --sklearn-color-background: var(--sg-background-color, var(--theme-background, var(--jp-layout-color0, #111)));\n",
       "    --sklearn-color-border-box: var(--sg-text-color, var(--theme-code-foreground, var(--jp-content-font-color1, white)));\n",
       "    --sklearn-color-icon: #878787;\n",
       "  }\n",
       "}\n",
       "\n",
       "#sk-container-id-1 {\n",
       "  color: var(--sklearn-color-text);\n",
       "}\n",
       "\n",
       "#sk-container-id-1 pre {\n",
       "  padding: 0;\n",
       "}\n",
       "\n",
       "#sk-container-id-1 input.sk-hidden--visually {\n",
       "  border: 0;\n",
       "  clip: rect(1px 1px 1px 1px);\n",
       "  clip: rect(1px, 1px, 1px, 1px);\n",
       "  height: 1px;\n",
       "  margin: -1px;\n",
       "  overflow: hidden;\n",
       "  padding: 0;\n",
       "  position: absolute;\n",
       "  width: 1px;\n",
       "}\n",
       "\n",
       "#sk-container-id-1 div.sk-dashed-wrapped {\n",
       "  border: 1px dashed var(--sklearn-color-line);\n",
       "  margin: 0 0.4em 0.5em 0.4em;\n",
       "  box-sizing: border-box;\n",
       "  padding-bottom: 0.4em;\n",
       "  background-color: var(--sklearn-color-background);\n",
       "}\n",
       "\n",
       "#sk-container-id-1 div.sk-container {\n",
       "  /* jupyter's `normalize.less` sets `[hidden] { display: none; }`\n",
       "     but bootstrap.min.css set `[hidden] { display: none !important; }`\n",
       "     so we also need the `!important` here to be able to override the\n",
       "     default hidden behavior on the sphinx rendered scikit-learn.org.\n",
       "     See: https://github.com/scikit-learn/scikit-learn/issues/21755 */\n",
       "  display: inline-block !important;\n",
       "  position: relative;\n",
       "}\n",
       "\n",
       "#sk-container-id-1 div.sk-text-repr-fallback {\n",
       "  display: none;\n",
       "}\n",
       "\n",
       "div.sk-parallel-item,\n",
       "div.sk-serial,\n",
       "div.sk-item {\n",
       "  /* draw centered vertical line to link estimators */\n",
       "  background-image: linear-gradient(var(--sklearn-color-text-on-default-background), var(--sklearn-color-text-on-default-background));\n",
       "  background-size: 2px 100%;\n",
       "  background-repeat: no-repeat;\n",
       "  background-position: center center;\n",
       "}\n",
       "\n",
       "/* Parallel-specific style estimator block */\n",
       "\n",
       "#sk-container-id-1 div.sk-parallel-item::after {\n",
       "  content: \"\";\n",
       "  width: 100%;\n",
       "  border-bottom: 2px solid var(--sklearn-color-text-on-default-background);\n",
       "  flex-grow: 1;\n",
       "}\n",
       "\n",
       "#sk-container-id-1 div.sk-parallel {\n",
       "  display: flex;\n",
       "  align-items: stretch;\n",
       "  justify-content: center;\n",
       "  background-color: var(--sklearn-color-background);\n",
       "  position: relative;\n",
       "}\n",
       "\n",
       "#sk-container-id-1 div.sk-parallel-item {\n",
       "  display: flex;\n",
       "  flex-direction: column;\n",
       "}\n",
       "\n",
       "#sk-container-id-1 div.sk-parallel-item:first-child::after {\n",
       "  align-self: flex-end;\n",
       "  width: 50%;\n",
       "}\n",
       "\n",
       "#sk-container-id-1 div.sk-parallel-item:last-child::after {\n",
       "  align-self: flex-start;\n",
       "  width: 50%;\n",
       "}\n",
       "\n",
       "#sk-container-id-1 div.sk-parallel-item:only-child::after {\n",
       "  width: 0;\n",
       "}\n",
       "\n",
       "/* Serial-specific style estimator block */\n",
       "\n",
       "#sk-container-id-1 div.sk-serial {\n",
       "  display: flex;\n",
       "  flex-direction: column;\n",
       "  align-items: center;\n",
       "  background-color: var(--sklearn-color-background);\n",
       "  padding-right: 1em;\n",
       "  padding-left: 1em;\n",
       "}\n",
       "\n",
       "\n",
       "/* Toggleable style: style used for estimator/Pipeline/ColumnTransformer box that is\n",
       "clickable and can be expanded/collapsed.\n",
       "- Pipeline and ColumnTransformer use this feature and define the default style\n",
       "- Estimators will overwrite some part of the style using the `sk-estimator` class\n",
       "*/\n",
       "\n",
       "/* Pipeline and ColumnTransformer style (default) */\n",
       "\n",
       "#sk-container-id-1 div.sk-toggleable {\n",
       "  /* Default theme specific background. It is overwritten whether we have a\n",
       "  specific estimator or a Pipeline/ColumnTransformer */\n",
       "  background-color: var(--sklearn-color-background);\n",
       "}\n",
       "\n",
       "/* Toggleable label */\n",
       "#sk-container-id-1 label.sk-toggleable__label {\n",
       "  cursor: pointer;\n",
       "  display: flex;\n",
       "  width: 100%;\n",
       "  margin-bottom: 0;\n",
       "  padding: 0.5em;\n",
       "  box-sizing: border-box;\n",
       "  text-align: center;\n",
       "  align-items: start;\n",
       "  justify-content: space-between;\n",
       "  gap: 0.5em;\n",
       "}\n",
       "\n",
       "#sk-container-id-1 label.sk-toggleable__label .caption {\n",
       "  font-size: 0.6rem;\n",
       "  font-weight: lighter;\n",
       "  color: var(--sklearn-color-text-muted);\n",
       "}\n",
       "\n",
       "#sk-container-id-1 label.sk-toggleable__label-arrow:before {\n",
       "  /* Arrow on the left of the label */\n",
       "  content: \"▸\";\n",
       "  float: left;\n",
       "  margin-right: 0.25em;\n",
       "  color: var(--sklearn-color-icon);\n",
       "}\n",
       "\n",
       "#sk-container-id-1 label.sk-toggleable__label-arrow:hover:before {\n",
       "  color: var(--sklearn-color-text);\n",
       "}\n",
       "\n",
       "/* Toggleable content - dropdown */\n",
       "\n",
       "#sk-container-id-1 div.sk-toggleable__content {\n",
       "  max-height: 0;\n",
       "  max-width: 0;\n",
       "  overflow: hidden;\n",
       "  text-align: left;\n",
       "  /* unfitted */\n",
       "  background-color: var(--sklearn-color-unfitted-level-0);\n",
       "}\n",
       "\n",
       "#sk-container-id-1 div.sk-toggleable__content.fitted {\n",
       "  /* fitted */\n",
       "  background-color: var(--sklearn-color-fitted-level-0);\n",
       "}\n",
       "\n",
       "#sk-container-id-1 div.sk-toggleable__content pre {\n",
       "  margin: 0.2em;\n",
       "  border-radius: 0.25em;\n",
       "  color: var(--sklearn-color-text);\n",
       "  /* unfitted */\n",
       "  background-color: var(--sklearn-color-unfitted-level-0);\n",
       "}\n",
       "\n",
       "#sk-container-id-1 div.sk-toggleable__content.fitted pre {\n",
       "  /* unfitted */\n",
       "  background-color: var(--sklearn-color-fitted-level-0);\n",
       "}\n",
       "\n",
       "#sk-container-id-1 input.sk-toggleable__control:checked~div.sk-toggleable__content {\n",
       "  /* Expand drop-down */\n",
       "  max-height: 200px;\n",
       "  max-width: 100%;\n",
       "  overflow: auto;\n",
       "}\n",
       "\n",
       "#sk-container-id-1 input.sk-toggleable__control:checked~label.sk-toggleable__label-arrow:before {\n",
       "  content: \"▾\";\n",
       "}\n",
       "\n",
       "/* Pipeline/ColumnTransformer-specific style */\n",
       "\n",
       "#sk-container-id-1 div.sk-label input.sk-toggleable__control:checked~label.sk-toggleable__label {\n",
       "  color: var(--sklearn-color-text);\n",
       "  background-color: var(--sklearn-color-unfitted-level-2);\n",
       "}\n",
       "\n",
       "#sk-container-id-1 div.sk-label.fitted input.sk-toggleable__control:checked~label.sk-toggleable__label {\n",
       "  background-color: var(--sklearn-color-fitted-level-2);\n",
       "}\n",
       "\n",
       "/* Estimator-specific style */\n",
       "\n",
       "/* Colorize estimator box */\n",
       "#sk-container-id-1 div.sk-estimator input.sk-toggleable__control:checked~label.sk-toggleable__label {\n",
       "  /* unfitted */\n",
       "  background-color: var(--sklearn-color-unfitted-level-2);\n",
       "}\n",
       "\n",
       "#sk-container-id-1 div.sk-estimator.fitted input.sk-toggleable__control:checked~label.sk-toggleable__label {\n",
       "  /* fitted */\n",
       "  background-color: var(--sklearn-color-fitted-level-2);\n",
       "}\n",
       "\n",
       "#sk-container-id-1 div.sk-label label.sk-toggleable__label,\n",
       "#sk-container-id-1 div.sk-label label {\n",
       "  /* The background is the default theme color */\n",
       "  color: var(--sklearn-color-text-on-default-background);\n",
       "}\n",
       "\n",
       "/* On hover, darken the color of the background */\n",
       "#sk-container-id-1 div.sk-label:hover label.sk-toggleable__label {\n",
       "  color: var(--sklearn-color-text);\n",
       "  background-color: var(--sklearn-color-unfitted-level-2);\n",
       "}\n",
       "\n",
       "/* Label box, darken color on hover, fitted */\n",
       "#sk-container-id-1 div.sk-label.fitted:hover label.sk-toggleable__label.fitted {\n",
       "  color: var(--sklearn-color-text);\n",
       "  background-color: var(--sklearn-color-fitted-level-2);\n",
       "}\n",
       "\n",
       "/* Estimator label */\n",
       "\n",
       "#sk-container-id-1 div.sk-label label {\n",
       "  font-family: monospace;\n",
       "  font-weight: bold;\n",
       "  display: inline-block;\n",
       "  line-height: 1.2em;\n",
       "}\n",
       "\n",
       "#sk-container-id-1 div.sk-label-container {\n",
       "  text-align: center;\n",
       "}\n",
       "\n",
       "/* Estimator-specific */\n",
       "#sk-container-id-1 div.sk-estimator {\n",
       "  font-family: monospace;\n",
       "  border: 1px dotted var(--sklearn-color-border-box);\n",
       "  border-radius: 0.25em;\n",
       "  box-sizing: border-box;\n",
       "  margin-bottom: 0.5em;\n",
       "  /* unfitted */\n",
       "  background-color: var(--sklearn-color-unfitted-level-0);\n",
       "}\n",
       "\n",
       "#sk-container-id-1 div.sk-estimator.fitted {\n",
       "  /* fitted */\n",
       "  background-color: var(--sklearn-color-fitted-level-0);\n",
       "}\n",
       "\n",
       "/* on hover */\n",
       "#sk-container-id-1 div.sk-estimator:hover {\n",
       "  /* unfitted */\n",
       "  background-color: var(--sklearn-color-unfitted-level-2);\n",
       "}\n",
       "\n",
       "#sk-container-id-1 div.sk-estimator.fitted:hover {\n",
       "  /* fitted */\n",
       "  background-color: var(--sklearn-color-fitted-level-2);\n",
       "}\n",
       "\n",
       "/* Specification for estimator info (e.g. \"i\" and \"?\") */\n",
       "\n",
       "/* Common style for \"i\" and \"?\" */\n",
       "\n",
       ".sk-estimator-doc-link,\n",
       "a:link.sk-estimator-doc-link,\n",
       "a:visited.sk-estimator-doc-link {\n",
       "  float: right;\n",
       "  font-size: smaller;\n",
       "  line-height: 1em;\n",
       "  font-family: monospace;\n",
       "  background-color: var(--sklearn-color-background);\n",
       "  border-radius: 1em;\n",
       "  height: 1em;\n",
       "  width: 1em;\n",
       "  text-decoration: none !important;\n",
       "  margin-left: 0.5em;\n",
       "  text-align: center;\n",
       "  /* unfitted */\n",
       "  border: var(--sklearn-color-unfitted-level-1) 1pt solid;\n",
       "  color: var(--sklearn-color-unfitted-level-1);\n",
       "}\n",
       "\n",
       ".sk-estimator-doc-link.fitted,\n",
       "a:link.sk-estimator-doc-link.fitted,\n",
       "a:visited.sk-estimator-doc-link.fitted {\n",
       "  /* fitted */\n",
       "  border: var(--sklearn-color-fitted-level-1) 1pt solid;\n",
       "  color: var(--sklearn-color-fitted-level-1);\n",
       "}\n",
       "\n",
       "/* On hover */\n",
       "div.sk-estimator:hover .sk-estimator-doc-link:hover,\n",
       ".sk-estimator-doc-link:hover,\n",
       "div.sk-label-container:hover .sk-estimator-doc-link:hover,\n",
       ".sk-estimator-doc-link:hover {\n",
       "  /* unfitted */\n",
       "  background-color: var(--sklearn-color-unfitted-level-3);\n",
       "  color: var(--sklearn-color-background);\n",
       "  text-decoration: none;\n",
       "}\n",
       "\n",
       "div.sk-estimator.fitted:hover .sk-estimator-doc-link.fitted:hover,\n",
       ".sk-estimator-doc-link.fitted:hover,\n",
       "div.sk-label-container:hover .sk-estimator-doc-link.fitted:hover,\n",
       ".sk-estimator-doc-link.fitted:hover {\n",
       "  /* fitted */\n",
       "  background-color: var(--sklearn-color-fitted-level-3);\n",
       "  color: var(--sklearn-color-background);\n",
       "  text-decoration: none;\n",
       "}\n",
       "\n",
       "/* Span, style for the box shown on hovering the info icon */\n",
       ".sk-estimator-doc-link span {\n",
       "  display: none;\n",
       "  z-index: 9999;\n",
       "  position: relative;\n",
       "  font-weight: normal;\n",
       "  right: .2ex;\n",
       "  padding: .5ex;\n",
       "  margin: .5ex;\n",
       "  width: min-content;\n",
       "  min-width: 20ex;\n",
       "  max-width: 50ex;\n",
       "  color: var(--sklearn-color-text);\n",
       "  box-shadow: 2pt 2pt 4pt #999;\n",
       "  /* unfitted */\n",
       "  background: var(--sklearn-color-unfitted-level-0);\n",
       "  border: .5pt solid var(--sklearn-color-unfitted-level-3);\n",
       "}\n",
       "\n",
       ".sk-estimator-doc-link.fitted span {\n",
       "  /* fitted */\n",
       "  background: var(--sklearn-color-fitted-level-0);\n",
       "  border: var(--sklearn-color-fitted-level-3);\n",
       "}\n",
       "\n",
       ".sk-estimator-doc-link:hover span {\n",
       "  display: block;\n",
       "}\n",
       "\n",
       "/* \"?\"-specific style due to the `<a>` HTML tag */\n",
       "\n",
       "#sk-container-id-1 a.estimator_doc_link {\n",
       "  float: right;\n",
       "  font-size: 1rem;\n",
       "  line-height: 1em;\n",
       "  font-family: monospace;\n",
       "  background-color: var(--sklearn-color-background);\n",
       "  border-radius: 1rem;\n",
       "  height: 1rem;\n",
       "  width: 1rem;\n",
       "  text-decoration: none;\n",
       "  /* unfitted */\n",
       "  color: var(--sklearn-color-unfitted-level-1);\n",
       "  border: var(--sklearn-color-unfitted-level-1) 1pt solid;\n",
       "}\n",
       "\n",
       "#sk-container-id-1 a.estimator_doc_link.fitted {\n",
       "  /* fitted */\n",
       "  border: var(--sklearn-color-fitted-level-1) 1pt solid;\n",
       "  color: var(--sklearn-color-fitted-level-1);\n",
       "}\n",
       "\n",
       "/* On hover */\n",
       "#sk-container-id-1 a.estimator_doc_link:hover {\n",
       "  /* unfitted */\n",
       "  background-color: var(--sklearn-color-unfitted-level-3);\n",
       "  color: var(--sklearn-color-background);\n",
       "  text-decoration: none;\n",
       "}\n",
       "\n",
       "#sk-container-id-1 a.estimator_doc_link.fitted:hover {\n",
       "  /* fitted */\n",
       "  background-color: var(--sklearn-color-fitted-level-3);\n",
       "}\n",
       "</style><div id=\"sk-container-id-1\" class=\"sk-top-container\"><div class=\"sk-text-repr-fallback\"><pre>Pipeline(steps=[(&#x27;CustomTransformer&#x27;, CustomTransformer()),\n",
       "                (&#x27;SelectKBest&#x27;, SelectKBest()),\n",
       "                (&#x27;Classifier&#x27;,\n",
       "                 RandomForestClassifier(criterion=&#x27;entropy&#x27;, max_depth=14,\n",
       "                                        n_estimators=275, n_jobs=-1,\n",
       "                                        random_state=42))])</pre><b>In a Jupyter environment, please rerun this cell to show the HTML representation or trust the notebook. <br />On GitHub, the HTML representation is unable to render, please try loading this page with nbviewer.org.</b></div><div class=\"sk-container\" hidden><div class=\"sk-item sk-dashed-wrapped\"><div class=\"sk-label-container\"><div class=\"sk-label fitted sk-toggleable\"><input class=\"sk-toggleable__control sk-hidden--visually\" id=\"sk-estimator-id-1\" type=\"checkbox\" ><label for=\"sk-estimator-id-1\" class=\"sk-toggleable__label fitted sk-toggleable__label-arrow\"><div><div>Pipeline</div></div><div><a class=\"sk-estimator-doc-link fitted\" rel=\"noreferrer\" target=\"_blank\" href=\"https://scikit-learn.org/1.6/modules/generated/sklearn.pipeline.Pipeline.html\">?<span>Documentation for Pipeline</span></a><span class=\"sk-estimator-doc-link fitted\">i<span>Fitted</span></span></div></label><div class=\"sk-toggleable__content fitted\"><pre>Pipeline(steps=[(&#x27;CustomTransformer&#x27;, CustomTransformer()),\n",
       "                (&#x27;SelectKBest&#x27;, SelectKBest()),\n",
       "                (&#x27;Classifier&#x27;,\n",
       "                 RandomForestClassifier(criterion=&#x27;entropy&#x27;, max_depth=14,\n",
       "                                        n_estimators=275, n_jobs=-1,\n",
       "                                        random_state=42))])</pre></div> </div></div><div class=\"sk-serial\"><div class=\"sk-item\"><div class=\"sk-estimator fitted sk-toggleable\"><input class=\"sk-toggleable__control sk-hidden--visually\" id=\"sk-estimator-id-2\" type=\"checkbox\" ><label for=\"sk-estimator-id-2\" class=\"sk-toggleable__label fitted sk-toggleable__label-arrow\"><div><div>CustomTransformer</div></div></label><div class=\"sk-toggleable__content fitted\"><pre>CustomTransformer()</pre></div> </div></div><div class=\"sk-item\"><div class=\"sk-estimator fitted sk-toggleable\"><input class=\"sk-toggleable__control sk-hidden--visually\" id=\"sk-estimator-id-3\" type=\"checkbox\" ><label for=\"sk-estimator-id-3\" class=\"sk-toggleable__label fitted sk-toggleable__label-arrow\"><div><div>SelectKBest</div></div><div><a class=\"sk-estimator-doc-link fitted\" rel=\"noreferrer\" target=\"_blank\" href=\"https://scikit-learn.org/1.6/modules/generated/sklearn.feature_selection.SelectKBest.html\">?<span>Documentation for SelectKBest</span></a></div></label><div class=\"sk-toggleable__content fitted\"><pre>SelectKBest()</pre></div> </div></div><div class=\"sk-item\"><div class=\"sk-estimator fitted sk-toggleable\"><input class=\"sk-toggleable__control sk-hidden--visually\" id=\"sk-estimator-id-4\" type=\"checkbox\" ><label for=\"sk-estimator-id-4\" class=\"sk-toggleable__label fitted sk-toggleable__label-arrow\"><div><div>RandomForestClassifier</div></div><div><a class=\"sk-estimator-doc-link fitted\" rel=\"noreferrer\" target=\"_blank\" href=\"https://scikit-learn.org/1.6/modules/generated/sklearn.ensemble.RandomForestClassifier.html\">?<span>Documentation for RandomForestClassifier</span></a></div></label><div class=\"sk-toggleable__content fitted\"><pre>RandomForestClassifier(criterion=&#x27;entropy&#x27;, max_depth=14, n_estimators=275,\n",
       "                       n_jobs=-1, random_state=42)</pre></div> </div></div></div></div></div></div>"
      ]
     },
     "execution_count": 17,
     "metadata": {},
     "output_type": "execute_result"
    }
   ],
   "execution_count": 17
  },
  {
   "metadata": {
    "ExecuteTime": {
     "end_time": "2025-04-29T14:28:44.964347Z",
     "start_time": "2025-04-29T14:28:44.913170Z"
    }
   },
   "cell_type": "code",
   "source": "print_feature_importances(clf)",
   "id": "ccfd87d135f6b9f1",
   "outputs": [
    {
     "name": "stdout",
     "output_type": "stream",
     "text": [
      "V16: 0.24813516934736302\n",
      "V13: 0.23473923948040545\n",
      "V9: 0.12679898386332325\n",
      "V11: 0.1262488450517961\n",
      "V10: 0.06731866486944989\n",
      "V3: 0.05758845302869832\n",
      "V15: 0.04628292962579698\n",
      "V6: 0.04265098601872183\n",
      "V2: 0.028712945593879595\n",
      "V17: 0.021523783120565607\n"
     ]
    }
   ],
   "execution_count": 18
  },
  {
   "metadata": {
    "ExecuteTime": {
     "end_time": "2025-04-29T14:28:47.836778Z",
     "start_time": "2025-04-29T14:28:46.742122Z"
    }
   },
   "cell_type": "code",
   "source": [
    "clf = ext_clf\n",
    "\n",
    "clf.fit(X_train_valid, y_train_valid)"
   ],
   "id": "9708b3c7129db085",
   "outputs": [
    {
     "data": {
      "text/plain": [
       "Pipeline(steps=[('CustomTransformer', CustomTransformer()),\n",
       "                ('SelectKBest', SelectKBest()),\n",
       "                ('Classifier',\n",
       "                 ExtraTreesClassifier(n_jobs=-1, random_state=42))])"
      ],
      "text/html": [
       "<style>#sk-container-id-2 {\n",
       "  /* Definition of color scheme common for light and dark mode */\n",
       "  --sklearn-color-text: #000;\n",
       "  --sklearn-color-text-muted: #666;\n",
       "  --sklearn-color-line: gray;\n",
       "  /* Definition of color scheme for unfitted estimators */\n",
       "  --sklearn-color-unfitted-level-0: #fff5e6;\n",
       "  --sklearn-color-unfitted-level-1: #f6e4d2;\n",
       "  --sklearn-color-unfitted-level-2: #ffe0b3;\n",
       "  --sklearn-color-unfitted-level-3: chocolate;\n",
       "  /* Definition of color scheme for fitted estimators */\n",
       "  --sklearn-color-fitted-level-0: #f0f8ff;\n",
       "  --sklearn-color-fitted-level-1: #d4ebff;\n",
       "  --sklearn-color-fitted-level-2: #b3dbfd;\n",
       "  --sklearn-color-fitted-level-3: cornflowerblue;\n",
       "\n",
       "  /* Specific color for light theme */\n",
       "  --sklearn-color-text-on-default-background: var(--sg-text-color, var(--theme-code-foreground, var(--jp-content-font-color1, black)));\n",
       "  --sklearn-color-background: var(--sg-background-color, var(--theme-background, var(--jp-layout-color0, white)));\n",
       "  --sklearn-color-border-box: var(--sg-text-color, var(--theme-code-foreground, var(--jp-content-font-color1, black)));\n",
       "  --sklearn-color-icon: #696969;\n",
       "\n",
       "  @media (prefers-color-scheme: dark) {\n",
       "    /* Redefinition of color scheme for dark theme */\n",
       "    --sklearn-color-text-on-default-background: var(--sg-text-color, var(--theme-code-foreground, var(--jp-content-font-color1, white)));\n",
       "    --sklearn-color-background: var(--sg-background-color, var(--theme-background, var(--jp-layout-color0, #111)));\n",
       "    --sklearn-color-border-box: var(--sg-text-color, var(--theme-code-foreground, var(--jp-content-font-color1, white)));\n",
       "    --sklearn-color-icon: #878787;\n",
       "  }\n",
       "}\n",
       "\n",
       "#sk-container-id-2 {\n",
       "  color: var(--sklearn-color-text);\n",
       "}\n",
       "\n",
       "#sk-container-id-2 pre {\n",
       "  padding: 0;\n",
       "}\n",
       "\n",
       "#sk-container-id-2 input.sk-hidden--visually {\n",
       "  border: 0;\n",
       "  clip: rect(1px 1px 1px 1px);\n",
       "  clip: rect(1px, 1px, 1px, 1px);\n",
       "  height: 1px;\n",
       "  margin: -1px;\n",
       "  overflow: hidden;\n",
       "  padding: 0;\n",
       "  position: absolute;\n",
       "  width: 1px;\n",
       "}\n",
       "\n",
       "#sk-container-id-2 div.sk-dashed-wrapped {\n",
       "  border: 1px dashed var(--sklearn-color-line);\n",
       "  margin: 0 0.4em 0.5em 0.4em;\n",
       "  box-sizing: border-box;\n",
       "  padding-bottom: 0.4em;\n",
       "  background-color: var(--sklearn-color-background);\n",
       "}\n",
       "\n",
       "#sk-container-id-2 div.sk-container {\n",
       "  /* jupyter's `normalize.less` sets `[hidden] { display: none; }`\n",
       "     but bootstrap.min.css set `[hidden] { display: none !important; }`\n",
       "     so we also need the `!important` here to be able to override the\n",
       "     default hidden behavior on the sphinx rendered scikit-learn.org.\n",
       "     See: https://github.com/scikit-learn/scikit-learn/issues/21755 */\n",
       "  display: inline-block !important;\n",
       "  position: relative;\n",
       "}\n",
       "\n",
       "#sk-container-id-2 div.sk-text-repr-fallback {\n",
       "  display: none;\n",
       "}\n",
       "\n",
       "div.sk-parallel-item,\n",
       "div.sk-serial,\n",
       "div.sk-item {\n",
       "  /* draw centered vertical line to link estimators */\n",
       "  background-image: linear-gradient(var(--sklearn-color-text-on-default-background), var(--sklearn-color-text-on-default-background));\n",
       "  background-size: 2px 100%;\n",
       "  background-repeat: no-repeat;\n",
       "  background-position: center center;\n",
       "}\n",
       "\n",
       "/* Parallel-specific style estimator block */\n",
       "\n",
       "#sk-container-id-2 div.sk-parallel-item::after {\n",
       "  content: \"\";\n",
       "  width: 100%;\n",
       "  border-bottom: 2px solid var(--sklearn-color-text-on-default-background);\n",
       "  flex-grow: 1;\n",
       "}\n",
       "\n",
       "#sk-container-id-2 div.sk-parallel {\n",
       "  display: flex;\n",
       "  align-items: stretch;\n",
       "  justify-content: center;\n",
       "  background-color: var(--sklearn-color-background);\n",
       "  position: relative;\n",
       "}\n",
       "\n",
       "#sk-container-id-2 div.sk-parallel-item {\n",
       "  display: flex;\n",
       "  flex-direction: column;\n",
       "}\n",
       "\n",
       "#sk-container-id-2 div.sk-parallel-item:first-child::after {\n",
       "  align-self: flex-end;\n",
       "  width: 50%;\n",
       "}\n",
       "\n",
       "#sk-container-id-2 div.sk-parallel-item:last-child::after {\n",
       "  align-self: flex-start;\n",
       "  width: 50%;\n",
       "}\n",
       "\n",
       "#sk-container-id-2 div.sk-parallel-item:only-child::after {\n",
       "  width: 0;\n",
       "}\n",
       "\n",
       "/* Serial-specific style estimator block */\n",
       "\n",
       "#sk-container-id-2 div.sk-serial {\n",
       "  display: flex;\n",
       "  flex-direction: column;\n",
       "  align-items: center;\n",
       "  background-color: var(--sklearn-color-background);\n",
       "  padding-right: 1em;\n",
       "  padding-left: 1em;\n",
       "}\n",
       "\n",
       "\n",
       "/* Toggleable style: style used for estimator/Pipeline/ColumnTransformer box that is\n",
       "clickable and can be expanded/collapsed.\n",
       "- Pipeline and ColumnTransformer use this feature and define the default style\n",
       "- Estimators will overwrite some part of the style using the `sk-estimator` class\n",
       "*/\n",
       "\n",
       "/* Pipeline and ColumnTransformer style (default) */\n",
       "\n",
       "#sk-container-id-2 div.sk-toggleable {\n",
       "  /* Default theme specific background. It is overwritten whether we have a\n",
       "  specific estimator or a Pipeline/ColumnTransformer */\n",
       "  background-color: var(--sklearn-color-background);\n",
       "}\n",
       "\n",
       "/* Toggleable label */\n",
       "#sk-container-id-2 label.sk-toggleable__label {\n",
       "  cursor: pointer;\n",
       "  display: flex;\n",
       "  width: 100%;\n",
       "  margin-bottom: 0;\n",
       "  padding: 0.5em;\n",
       "  box-sizing: border-box;\n",
       "  text-align: center;\n",
       "  align-items: start;\n",
       "  justify-content: space-between;\n",
       "  gap: 0.5em;\n",
       "}\n",
       "\n",
       "#sk-container-id-2 label.sk-toggleable__label .caption {\n",
       "  font-size: 0.6rem;\n",
       "  font-weight: lighter;\n",
       "  color: var(--sklearn-color-text-muted);\n",
       "}\n",
       "\n",
       "#sk-container-id-2 label.sk-toggleable__label-arrow:before {\n",
       "  /* Arrow on the left of the label */\n",
       "  content: \"▸\";\n",
       "  float: left;\n",
       "  margin-right: 0.25em;\n",
       "  color: var(--sklearn-color-icon);\n",
       "}\n",
       "\n",
       "#sk-container-id-2 label.sk-toggleable__label-arrow:hover:before {\n",
       "  color: var(--sklearn-color-text);\n",
       "}\n",
       "\n",
       "/* Toggleable content - dropdown */\n",
       "\n",
       "#sk-container-id-2 div.sk-toggleable__content {\n",
       "  max-height: 0;\n",
       "  max-width: 0;\n",
       "  overflow: hidden;\n",
       "  text-align: left;\n",
       "  /* unfitted */\n",
       "  background-color: var(--sklearn-color-unfitted-level-0);\n",
       "}\n",
       "\n",
       "#sk-container-id-2 div.sk-toggleable__content.fitted {\n",
       "  /* fitted */\n",
       "  background-color: var(--sklearn-color-fitted-level-0);\n",
       "}\n",
       "\n",
       "#sk-container-id-2 div.sk-toggleable__content pre {\n",
       "  margin: 0.2em;\n",
       "  border-radius: 0.25em;\n",
       "  color: var(--sklearn-color-text);\n",
       "  /* unfitted */\n",
       "  background-color: var(--sklearn-color-unfitted-level-0);\n",
       "}\n",
       "\n",
       "#sk-container-id-2 div.sk-toggleable__content.fitted pre {\n",
       "  /* unfitted */\n",
       "  background-color: var(--sklearn-color-fitted-level-0);\n",
       "}\n",
       "\n",
       "#sk-container-id-2 input.sk-toggleable__control:checked~div.sk-toggleable__content {\n",
       "  /* Expand drop-down */\n",
       "  max-height: 200px;\n",
       "  max-width: 100%;\n",
       "  overflow: auto;\n",
       "}\n",
       "\n",
       "#sk-container-id-2 input.sk-toggleable__control:checked~label.sk-toggleable__label-arrow:before {\n",
       "  content: \"▾\";\n",
       "}\n",
       "\n",
       "/* Pipeline/ColumnTransformer-specific style */\n",
       "\n",
       "#sk-container-id-2 div.sk-label input.sk-toggleable__control:checked~label.sk-toggleable__label {\n",
       "  color: var(--sklearn-color-text);\n",
       "  background-color: var(--sklearn-color-unfitted-level-2);\n",
       "}\n",
       "\n",
       "#sk-container-id-2 div.sk-label.fitted input.sk-toggleable__control:checked~label.sk-toggleable__label {\n",
       "  background-color: var(--sklearn-color-fitted-level-2);\n",
       "}\n",
       "\n",
       "/* Estimator-specific style */\n",
       "\n",
       "/* Colorize estimator box */\n",
       "#sk-container-id-2 div.sk-estimator input.sk-toggleable__control:checked~label.sk-toggleable__label {\n",
       "  /* unfitted */\n",
       "  background-color: var(--sklearn-color-unfitted-level-2);\n",
       "}\n",
       "\n",
       "#sk-container-id-2 div.sk-estimator.fitted input.sk-toggleable__control:checked~label.sk-toggleable__label {\n",
       "  /* fitted */\n",
       "  background-color: var(--sklearn-color-fitted-level-2);\n",
       "}\n",
       "\n",
       "#sk-container-id-2 div.sk-label label.sk-toggleable__label,\n",
       "#sk-container-id-2 div.sk-label label {\n",
       "  /* The background is the default theme color */\n",
       "  color: var(--sklearn-color-text-on-default-background);\n",
       "}\n",
       "\n",
       "/* On hover, darken the color of the background */\n",
       "#sk-container-id-2 div.sk-label:hover label.sk-toggleable__label {\n",
       "  color: var(--sklearn-color-text);\n",
       "  background-color: var(--sklearn-color-unfitted-level-2);\n",
       "}\n",
       "\n",
       "/* Label box, darken color on hover, fitted */\n",
       "#sk-container-id-2 div.sk-label.fitted:hover label.sk-toggleable__label.fitted {\n",
       "  color: var(--sklearn-color-text);\n",
       "  background-color: var(--sklearn-color-fitted-level-2);\n",
       "}\n",
       "\n",
       "/* Estimator label */\n",
       "\n",
       "#sk-container-id-2 div.sk-label label {\n",
       "  font-family: monospace;\n",
       "  font-weight: bold;\n",
       "  display: inline-block;\n",
       "  line-height: 1.2em;\n",
       "}\n",
       "\n",
       "#sk-container-id-2 div.sk-label-container {\n",
       "  text-align: center;\n",
       "}\n",
       "\n",
       "/* Estimator-specific */\n",
       "#sk-container-id-2 div.sk-estimator {\n",
       "  font-family: monospace;\n",
       "  border: 1px dotted var(--sklearn-color-border-box);\n",
       "  border-radius: 0.25em;\n",
       "  box-sizing: border-box;\n",
       "  margin-bottom: 0.5em;\n",
       "  /* unfitted */\n",
       "  background-color: var(--sklearn-color-unfitted-level-0);\n",
       "}\n",
       "\n",
       "#sk-container-id-2 div.sk-estimator.fitted {\n",
       "  /* fitted */\n",
       "  background-color: var(--sklearn-color-fitted-level-0);\n",
       "}\n",
       "\n",
       "/* on hover */\n",
       "#sk-container-id-2 div.sk-estimator:hover {\n",
       "  /* unfitted */\n",
       "  background-color: var(--sklearn-color-unfitted-level-2);\n",
       "}\n",
       "\n",
       "#sk-container-id-2 div.sk-estimator.fitted:hover {\n",
       "  /* fitted */\n",
       "  background-color: var(--sklearn-color-fitted-level-2);\n",
       "}\n",
       "\n",
       "/* Specification for estimator info (e.g. \"i\" and \"?\") */\n",
       "\n",
       "/* Common style for \"i\" and \"?\" */\n",
       "\n",
       ".sk-estimator-doc-link,\n",
       "a:link.sk-estimator-doc-link,\n",
       "a:visited.sk-estimator-doc-link {\n",
       "  float: right;\n",
       "  font-size: smaller;\n",
       "  line-height: 1em;\n",
       "  font-family: monospace;\n",
       "  background-color: var(--sklearn-color-background);\n",
       "  border-radius: 1em;\n",
       "  height: 1em;\n",
       "  width: 1em;\n",
       "  text-decoration: none !important;\n",
       "  margin-left: 0.5em;\n",
       "  text-align: center;\n",
       "  /* unfitted */\n",
       "  border: var(--sklearn-color-unfitted-level-1) 1pt solid;\n",
       "  color: var(--sklearn-color-unfitted-level-1);\n",
       "}\n",
       "\n",
       ".sk-estimator-doc-link.fitted,\n",
       "a:link.sk-estimator-doc-link.fitted,\n",
       "a:visited.sk-estimator-doc-link.fitted {\n",
       "  /* fitted */\n",
       "  border: var(--sklearn-color-fitted-level-1) 1pt solid;\n",
       "  color: var(--sklearn-color-fitted-level-1);\n",
       "}\n",
       "\n",
       "/* On hover */\n",
       "div.sk-estimator:hover .sk-estimator-doc-link:hover,\n",
       ".sk-estimator-doc-link:hover,\n",
       "div.sk-label-container:hover .sk-estimator-doc-link:hover,\n",
       ".sk-estimator-doc-link:hover {\n",
       "  /* unfitted */\n",
       "  background-color: var(--sklearn-color-unfitted-level-3);\n",
       "  color: var(--sklearn-color-background);\n",
       "  text-decoration: none;\n",
       "}\n",
       "\n",
       "div.sk-estimator.fitted:hover .sk-estimator-doc-link.fitted:hover,\n",
       ".sk-estimator-doc-link.fitted:hover,\n",
       "div.sk-label-container:hover .sk-estimator-doc-link.fitted:hover,\n",
       ".sk-estimator-doc-link.fitted:hover {\n",
       "  /* fitted */\n",
       "  background-color: var(--sklearn-color-fitted-level-3);\n",
       "  color: var(--sklearn-color-background);\n",
       "  text-decoration: none;\n",
       "}\n",
       "\n",
       "/* Span, style for the box shown on hovering the info icon */\n",
       ".sk-estimator-doc-link span {\n",
       "  display: none;\n",
       "  z-index: 9999;\n",
       "  position: relative;\n",
       "  font-weight: normal;\n",
       "  right: .2ex;\n",
       "  padding: .5ex;\n",
       "  margin: .5ex;\n",
       "  width: min-content;\n",
       "  min-width: 20ex;\n",
       "  max-width: 50ex;\n",
       "  color: var(--sklearn-color-text);\n",
       "  box-shadow: 2pt 2pt 4pt #999;\n",
       "  /* unfitted */\n",
       "  background: var(--sklearn-color-unfitted-level-0);\n",
       "  border: .5pt solid var(--sklearn-color-unfitted-level-3);\n",
       "}\n",
       "\n",
       ".sk-estimator-doc-link.fitted span {\n",
       "  /* fitted */\n",
       "  background: var(--sklearn-color-fitted-level-0);\n",
       "  border: var(--sklearn-color-fitted-level-3);\n",
       "}\n",
       "\n",
       ".sk-estimator-doc-link:hover span {\n",
       "  display: block;\n",
       "}\n",
       "\n",
       "/* \"?\"-specific style due to the `<a>` HTML tag */\n",
       "\n",
       "#sk-container-id-2 a.estimator_doc_link {\n",
       "  float: right;\n",
       "  font-size: 1rem;\n",
       "  line-height: 1em;\n",
       "  font-family: monospace;\n",
       "  background-color: var(--sklearn-color-background);\n",
       "  border-radius: 1rem;\n",
       "  height: 1rem;\n",
       "  width: 1rem;\n",
       "  text-decoration: none;\n",
       "  /* unfitted */\n",
       "  color: var(--sklearn-color-unfitted-level-1);\n",
       "  border: var(--sklearn-color-unfitted-level-1) 1pt solid;\n",
       "}\n",
       "\n",
       "#sk-container-id-2 a.estimator_doc_link.fitted {\n",
       "  /* fitted */\n",
       "  border: var(--sklearn-color-fitted-level-1) 1pt solid;\n",
       "  color: var(--sklearn-color-fitted-level-1);\n",
       "}\n",
       "\n",
       "/* On hover */\n",
       "#sk-container-id-2 a.estimator_doc_link:hover {\n",
       "  /* unfitted */\n",
       "  background-color: var(--sklearn-color-unfitted-level-3);\n",
       "  color: var(--sklearn-color-background);\n",
       "  text-decoration: none;\n",
       "}\n",
       "\n",
       "#sk-container-id-2 a.estimator_doc_link.fitted:hover {\n",
       "  /* fitted */\n",
       "  background-color: var(--sklearn-color-fitted-level-3);\n",
       "}\n",
       "</style><div id=\"sk-container-id-2\" class=\"sk-top-container\"><div class=\"sk-text-repr-fallback\"><pre>Pipeline(steps=[(&#x27;CustomTransformer&#x27;, CustomTransformer()),\n",
       "                (&#x27;SelectKBest&#x27;, SelectKBest()),\n",
       "                (&#x27;Classifier&#x27;,\n",
       "                 ExtraTreesClassifier(n_jobs=-1, random_state=42))])</pre><b>In a Jupyter environment, please rerun this cell to show the HTML representation or trust the notebook. <br />On GitHub, the HTML representation is unable to render, please try loading this page with nbviewer.org.</b></div><div class=\"sk-container\" hidden><div class=\"sk-item sk-dashed-wrapped\"><div class=\"sk-label-container\"><div class=\"sk-label fitted sk-toggleable\"><input class=\"sk-toggleable__control sk-hidden--visually\" id=\"sk-estimator-id-5\" type=\"checkbox\" ><label for=\"sk-estimator-id-5\" class=\"sk-toggleable__label fitted sk-toggleable__label-arrow\"><div><div>Pipeline</div></div><div><a class=\"sk-estimator-doc-link fitted\" rel=\"noreferrer\" target=\"_blank\" href=\"https://scikit-learn.org/1.6/modules/generated/sklearn.pipeline.Pipeline.html\">?<span>Documentation for Pipeline</span></a><span class=\"sk-estimator-doc-link fitted\">i<span>Fitted</span></span></div></label><div class=\"sk-toggleable__content fitted\"><pre>Pipeline(steps=[(&#x27;CustomTransformer&#x27;, CustomTransformer()),\n",
       "                (&#x27;SelectKBest&#x27;, SelectKBest()),\n",
       "                (&#x27;Classifier&#x27;,\n",
       "                 ExtraTreesClassifier(n_jobs=-1, random_state=42))])</pre></div> </div></div><div class=\"sk-serial\"><div class=\"sk-item\"><div class=\"sk-estimator fitted sk-toggleable\"><input class=\"sk-toggleable__control sk-hidden--visually\" id=\"sk-estimator-id-6\" type=\"checkbox\" ><label for=\"sk-estimator-id-6\" class=\"sk-toggleable__label fitted sk-toggleable__label-arrow\"><div><div>CustomTransformer</div></div></label><div class=\"sk-toggleable__content fitted\"><pre>CustomTransformer()</pre></div> </div></div><div class=\"sk-item\"><div class=\"sk-estimator fitted sk-toggleable\"><input class=\"sk-toggleable__control sk-hidden--visually\" id=\"sk-estimator-id-7\" type=\"checkbox\" ><label for=\"sk-estimator-id-7\" class=\"sk-toggleable__label fitted sk-toggleable__label-arrow\"><div><div>SelectKBest</div></div><div><a class=\"sk-estimator-doc-link fitted\" rel=\"noreferrer\" target=\"_blank\" href=\"https://scikit-learn.org/1.6/modules/generated/sklearn.feature_selection.SelectKBest.html\">?<span>Documentation for SelectKBest</span></a></div></label><div class=\"sk-toggleable__content fitted\"><pre>SelectKBest()</pre></div> </div></div><div class=\"sk-item\"><div class=\"sk-estimator fitted sk-toggleable\"><input class=\"sk-toggleable__control sk-hidden--visually\" id=\"sk-estimator-id-8\" type=\"checkbox\" ><label for=\"sk-estimator-id-8\" class=\"sk-toggleable__label fitted sk-toggleable__label-arrow\"><div><div>ExtraTreesClassifier</div></div><div><a class=\"sk-estimator-doc-link fitted\" rel=\"noreferrer\" target=\"_blank\" href=\"https://scikit-learn.org/1.6/modules/generated/sklearn.ensemble.ExtraTreesClassifier.html\">?<span>Documentation for ExtraTreesClassifier</span></a></div></label><div class=\"sk-toggleable__content fitted\"><pre>ExtraTreesClassifier(n_jobs=-1, random_state=42)</pre></div> </div></div></div></div></div></div>"
      ]
     },
     "execution_count": 19,
     "metadata": {},
     "output_type": "execute_result"
    }
   ],
   "execution_count": 19
  },
  {
   "metadata": {
    "ExecuteTime": {
     "end_time": "2025-04-29T14:28:48.688808Z",
     "start_time": "2025-04-29T14:28:48.655414Z"
    }
   },
   "cell_type": "code",
   "source": "print_feature_importances(clf)",
   "id": "50bad062109d935",
   "outputs": [
    {
     "name": "stdout",
     "output_type": "stream",
     "text": [
      "V16: 0.1787053367857951\n",
      "V13: 0.16627298801571558\n",
      "V11: 0.15434571921621423\n",
      "V9: 0.10400111260327595\n",
      "V15: 0.08555446427871775\n",
      "V10: 0.08002284631079425\n",
      "V3: 0.06790183196558551\n",
      "V17: 0.05893224310666333\n",
      "V2: 0.055897026592978995\n",
      "V6: 0.04836643112425932\n"
     ]
    }
   ],
   "execution_count": 20
  },
  {
   "metadata": {},
   "cell_type": "markdown",
   "source": "Kolumny w obu lekko się różnią, jednak te najważniejsze są podobne",
   "id": "3ac3ec3b95e1082"
  },
  {
   "metadata": {},
   "cell_type": "markdown",
   "source": [
    "## Testowanie na zbiorze testowym\n",
    "\n",
    "### Losowy las"
   ],
   "id": "7e648ef03f28d5f2"
  },
  {
   "metadata": {
    "ExecuteTime": {
     "end_time": "2025-04-29T14:52:53.176987Z",
     "start_time": "2025-04-29T14:52:38.339584Z"
    }
   },
   "cell_type": "code",
   "source": [
    "from sklearn.metrics import roc_auc_score, recall_score\n",
    "\n",
    "rnd_clf.fit(X_train_valid, y_train_valid)\n",
    "\n",
    "y_pred = rnd_clf.predict(X_test)\n",
    "\n",
    "print(\"f2: \", fbeta_score(y_test, y_pred, beta=2))\n",
    "print(\"roc_auc: \", roc_auc_score(y_test, rnd_clf.predict_proba(X_test)[:, 1]))\n",
    "print(\"Recall: \", recall_score(y_test, y_pred))\n",
    "print(\"Koszt: \", -CustomCost(X_with_amount=X)(rnd_clf,X_test,y_test))"
   ],
   "id": "8156be17a22e0097",
   "outputs": [
    {
     "name": "stdout",
     "output_type": "stream",
     "text": [
      "f2:  0.8123249299719888\n",
      "roc_auc:  0.9662027495982195\n",
      "Recall:  0.7837837837837838\n",
      "Koszt:  7838.659999999998\n"
     ]
    }
   ],
   "execution_count": 62
  },
  {
   "metadata": {
    "ExecuteTime": {
     "end_time": "2025-04-29T14:44:31.846941Z",
     "start_time": "2025-04-29T14:44:31.841370Z"
    }
   },
   "cell_type": "code",
   "source": [
    "from sklearn.metrics import confusion_matrix\n",
    "\n",
    "confusion_matrix(y_test, y_pred)"
   ],
   "id": "f3fd2f8ed66ffb44",
   "outputs": [
    {
     "data": {
      "text/plain": [
       "array([[42645,     3],\n",
       "       [   16,    58]])"
      ]
     },
     "execution_count": 45,
     "metadata": {},
     "output_type": "execute_result"
    }
   ],
   "execution_count": 45
  },
  {
   "metadata": {
    "ExecuteTime": {
     "end_time": "2025-04-29T15:15:03.897190Z",
     "start_time": "2025-04-29T15:15:03.894210Z"
    }
   },
   "cell_type": "code",
   "source": [
    "def plot_precision_recall_curve(clf, X_test, y_true):\n",
    "\n",
    "    y_prob = clf.predict_proba(X_test)[:, 1]\n",
    "    precision, recall, thresholds = precision_recall_curve(y_true, y_prob)\n",
    "    plt.plot(recall, precision, lw=2, color='darkorange',)\n",
    "    plt.xlabel('Recall')\n",
    "    plt.ylabel('Precision')\n",
    "    plt.title('Precision-Recall curve')\n",
    "    plt.show()"
   ],
   "id": "fc26032ded59bb92",
   "outputs": [],
   "execution_count": 73
  },
  {
   "metadata": {
    "ExecuteTime": {
     "end_time": "2025-04-29T15:15:04.796031Z",
     "start_time": "2025-04-29T15:15:04.677561Z"
    }
   },
   "cell_type": "code",
   "source": "plot_precision_recall_curve(rnd_clf, X_test, y_test)",
   "id": "fa6ef397c43f5063",
   "outputs": [
    {
     "data": {
      "text/plain": [
       "<Figure size 640x480 with 1 Axes>"
      ],
      "image/png": "[encoded data removed]"
     },
     "metadata": {},
     "output_type": "display_data"
    }
   ],
   "execution_count": 74
  },
  {
   "metadata": {
    "ExecuteTime": {
     "end_time": "2025-04-29T14:44:36.758438Z",
     "start_time": "2025-04-29T14:44:36.709625Z"
    }
   },
   "cell_type": "code",
   "source": [
    "from sklearn.metrics import precision_recall_curve\n",
    "\n",
    "precision, recall, thresholds = precision_recall_curve(y_test, y_pred)\n",
    "\n",
    "plt.plot(recall, precision, marker='.', linewidth=2)\n",
    "plt.xlabel('Recall')\n",
    "plt.ylabel('Precision')\n",
    "plt.title('Precision-Recall Curve')\n",
    "plt.grid()\n",
    "plt.show()"
   ],
   "id": "c656fb2f0693f064",
   "outputs": [
    {
     "data": {
      "text/plain": [
       "<Figure size 640x480 with 1 Axes>"
      ],
      "image/png": "[encoded data removed]"
     },
     "metadata": {},
     "output_type": "display_data"
    }
   ],
   "execution_count": 46
  },
  {
   "metadata": {
    "ExecuteTime": {
     "end_time": "2025-04-29T15:08:25.807131Z",
     "start_time": "2025-04-29T15:08:25.803338Z"
    }
   },
   "cell_type": "code",
   "source": [
    "from sklearn.metrics import roc_curve, roc_auc_score, auc\n",
    "\n",
    "\n",
    "def plot_roc(classifier,X_test, y_true, label=None):\n",
    "\n",
    "    y_prob = classifier.predict_proba(X_test)[:, 1]\n",
    "\n",
    "    fpr, tpr, thresholds = roc_curve(y_true, y_prob)\n",
    "\n",
    "    roc_auc = auc(fpr, tpr)\n",
    "\n",
    "    plt.figure()\n",
    "    plt.plot(fpr, tpr, color='darkorange', lw=2, label='ROC curve (area = %0.2f)' % roc_auc)\n",
    "    plt.plot([0, 1], [0, 1], color='navy', lw=2, linestyle='--')\n",
    "    plt.xlim([-0.05, 1.05])\n",
    "    plt.ylim([-0.05, 1.05])\n",
    "    plt.xlabel('False Positive Rate')\n",
    "    plt.ylabel('True Positive Rate')\n",
    "    plt.title('Receiver Operating Characteristic')\n",
    "    plt.legend(loc=\"lower right\")\n",
    "    plt.show()"
   ],
   "id": "80d657d766961924",
   "outputs": [],
   "execution_count": 64
  },
  {
   "metadata": {
    "ExecuteTime": {
     "end_time": "2025-04-29T15:08:27.111515Z",
     "start_time": "2025-04-29T15:08:26.974317Z"
    }
   },
   "cell_type": "code",
   "source": "plot_roc(rnd_clf,X_test, y_test)",
   "id": "51645eb0a176c7d6",
   "outputs": [
    {
     "data": {
      "text/plain": [
       "<Figure size 640x480 with 1 Axes>"
      ],
      "image/png": "[encoded data removed]"
     },
     "metadata": {},
     "output_type": "display_data"
    }
   ],
   "execution_count": 65
  },
  {
   "metadata": {},
   "cell_type": "markdown",
   "source": "### Zespół Extra-Trees",
   "id": "d4f254bffc54ee13"
  },
  {
   "metadata": {
    "ExecuteTime": {
     "end_time": "2025-04-29T14:53:24.562937Z",
     "start_time": "2025-04-29T14:53:23.257559Z"
    }
   },
   "cell_type": "code",
   "source": [
    "from sklearn.metrics import roc_auc_score, recall_score\n",
    "\n",
    "ext_clf.fit(X_train_valid, y_train_valid)\n",
    "\n",
    "y_pred = ext_clf.predict(X_test)\n",
    "\n",
    "print(\"f2: \", fbeta_score(y_test, y_pred, beta=2))\n",
    "print(\"roc_auc: \", roc_auc_score(y_test, ext_clf.predict_proba(X_test)[:, 1]))\n",
    "print(\"Recall: \", recall_score(y_test, y_pred))\n",
    "print(\"Koszt: \", -CustomCost(X_with_amount=X)(ext_clf,X_test,y_test))"
   ],
   "id": "fc8ba33661569d53",
   "outputs": [
    {
     "name": "stdout",
     "output_type": "stream",
     "text": [
      "f2:  0.8100558659217877\n",
      "roc_auc:  0.9376421124275656\n",
      "Recall:  0.7837837837837838\n",
      "Koszt:  7858.659999999998\n"
     ]
    }
   ],
   "execution_count": 63
  },
  {
   "metadata": {
    "ExecuteTime": {
     "end_time": "2025-04-29T14:45:29.003024Z",
     "start_time": "2025-04-29T14:45:28.998020Z"
    }
   },
   "cell_type": "code",
   "source": [
    "from sklearn.metrics import confusion_matrix\n",
    "\n",
    "confusion_matrix(y_test, y_pred)"
   ],
   "id": "1c4b74f3dfb5032",
   "outputs": [
    {
     "data": {
      "text/plain": [
       "array([[42644,     4],\n",
       "       [   16,    58]])"
      ]
     },
     "execution_count": 51,
     "metadata": {},
     "output_type": "execute_result"
    }
   ],
   "execution_count": 51
  },
  {
   "metadata": {
    "ExecuteTime": {
     "end_time": "2025-04-29T15:15:50.511830Z",
     "start_time": "2025-04-29T15:15:50.409335Z"
    }
   },
   "cell_type": "code",
   "source": "plot_precision_recall_curve(ext_clf, X_test, y_test)",
   "id": "e393c14e1a963780",
   "outputs": [
    {
     "data": {
      "text/plain": [
       "<Figure size 640x480 with 1 Axes>"
      ],
      "image/png": "[encoded data removed]"
     },
     "metadata": {},
     "output_type": "display_data"
    }
   ],
   "execution_count": 75
  },
  {
   "metadata": {
    "ExecuteTime": {
     "end_time": "2025-04-29T14:45:32.193558Z",
     "start_time": "2025-04-29T14:45:32.144412Z"
    }
   },
   "cell_type": "code",
   "source": [
    "from sklearn.metrics import precision_recall_curve\n",
    "\n",
    "precision, recall, thresholds = precision_recall_curve(y_test, y_pred)\n",
    "\n",
    "plt.plot(recall, precision, marker='.', linewidth=2)\n",
    "plt.xlabel('Recall')\n",
    "plt.ylabel('Precision')\n",
    "plt.title('Precision-Recall Curve')\n",
    "plt.grid()\n",
    "plt.show()"
   ],
   "id": "bff7d1da15057d94",
   "outputs": [
    {
     "data": {
      "text/plain": [
       "<Figure size 640x480 with 1 Axes>"
      ],
      "image/png": "[encoded data removed]"
     },
     "metadata": {},
     "output_type": "display_data"
    }
   ],
   "execution_count": 52
  },
  {
   "metadata": {
    "ExecuteTime": {
     "end_time": "2025-04-29T15:08:42.763298Z",
     "start_time": "2025-04-29T15:08:42.650998Z"
    }
   },
   "cell_type": "code",
   "source": "plot_roc(ext_clf, X_test, y_test)",
   "id": "9f5dd29d3ee0bb65",
   "outputs": [
    {
     "data": {
      "text/plain": [
       "<Figure size 640x480 with 1 Axes>"
      ],
      "image/png": "[encoded data removed]"
     },
     "metadata": {},
     "output_type": "display_data"
    }
   ],
   "execution_count": 66
  },
  {
   "metadata": {},
   "cell_type": "markdown",
   "source": "RandomForest posiada o 1 mniej FP i ma o 1 więcej poprawnie zaklasyfikowanych rekordów. Jednak różnica ta jest niewielka, a błąd jaki został poopełniony przez ExtraTrees jest FP, czyli model zaklasyfikował jako oszustwo transakcję poprawną. Jest to mniej krzywdzący dla banku błąd. Modele te działają podobnie, ExtraTrees liczą się odczuwalnie szybciej.",
   "id": "8665f0a647ebf715"
  },
  {
   "metadata": {},
   "cell_type": "markdown",
   "source": "## Wykorzystanie narzędzi interpretacyjnych do zrozumienia decyzji modelu",
   "id": "608bc3aa674e36d8"
  },
  {
   "metadata": {
    "ExecuteTime": {
     "end_time": "2025-04-29T14:48:40.218801Z",
     "start_time": "2025-04-29T14:48:40.198373Z"
    }
   },
   "cell_type": "code",
   "source": [
    "import lime.lime_tabular\n",
    "import matplotlib.pyplot as plt\n",
    "import random as rnd\n",
    "\n",
    "def explain_lime(estimator, index=None):\n",
    "\n",
    "    if index is None:\n",
    "        index = rnd.randint(0, len(X_test)-1)\n",
    "    y_pred = estimator.predict(X_test)\n",
    "\n",
    "    # Transformacja X_train_valid\n",
    "    X_train_valid_transformed = estimator.named_steps['SelectKBest'].transform(\n",
    "        estimator.named_steps['CustomTransformer'].transform(X_train_valid)\n",
    "    )\n",
    "\n",
    "    # feature names\n",
    "    selected_feature_indices = estimator.named_steps['SelectKBest'].get_support(indices=True)\n",
    "    selected_feature_names = X_train_valid.columns[1:].values[selected_feature_indices]\n",
    "\n",
    "    # Init expleinera\n",
    "    explainer = lime.lime_tabular.LimeTabularExplainer(\n",
    "        X_train_valid_transformed,\n",
    "        feature_names=selected_feature_names,\n",
    "        discretize_continuous=True,\n",
    "        mode='classification'\n",
    "    )\n",
    "\n",
    "    # wybranie instancji\n",
    "    instance = X_test.iloc[[index]]\n",
    "\n",
    "    # Transformacja instancji\n",
    "    instance_transformed = estimator.named_steps['SelectKBest'].transform(\n",
    "        estimator.named_steps['CustomTransformer'].transform(instance)\n",
    "    )\n",
    "\n",
    "    # Wytlumaczenie\n",
    "    exp = explainer.explain_instance(\n",
    "        data_row=instance_transformed[0],  # must be a 1D array\n",
    "        predict_fn=estimator.named_steps['Classifier'].predict_proba,\n",
    "        num_features=10\n",
    "    )\n",
    "\n",
    "    # Wizualizacja\n",
    "    true_label = y_test.iloc[index]\n",
    "    pred_label = y_pred[index]\n",
    "    fig = exp.as_pyplot_figure()\n",
    "    fig.suptitle(f'Index: {index} True label: {true_label} Predicted label: {pred_label}')\n",
    "    plt.show()"
   ],
   "id": "52b1bfd90a50505f",
   "outputs": [],
   "execution_count": 54
  },
  {
   "metadata": {
    "ExecuteTime": {
     "end_time": "2025-04-29T14:48:41.462002Z",
     "start_time": "2025-04-29T14:48:41.377734Z"
    }
   },
   "cell_type": "code",
   "source": [
    "y_pred = ext_clf.predict(X_test)\n",
    "\n",
    "tp_indices = []  # True Positives\n",
    "tn_indices = []  # True Negatives\n",
    "fp_indices = []  # False Positives\n",
    "fn_indices = []  # False Negatives\n",
    "\n",
    "# Iterate through the predictions and true labels\n",
    "for idx, (true_label, pred_label) in enumerate(zip(y_test, y_pred)):\n",
    "    if true_label == 1 and pred_label == 1:  # True Positive\n",
    "        tp_indices.append(idx)\n",
    "    elif true_label == 0 and pred_label == 0:  # True Negative\n",
    "        tn_indices.append(idx)\n",
    "    elif true_label == 0 and pred_label == 1:  # False Positive\n",
    "        fp_indices.append(idx)\n",
    "    elif true_label == 1 and pred_label == 0:  # False Negative\n",
    "        fn_indices.append(idx)\n",
    "\n",
    "tp_examples = X_test.iloc[tp_indices] if tp_indices else None\n",
    "tn_examples = X_test.iloc[tn_indices] if tn_indices else None\n",
    "fp_examples = X_test.iloc[fp_indices] if fp_indices else None\n",
    "fn_examples = X_test.iloc[fn_indices] if fn_indices else None\n",
    "\n",
    "print('TP: ', tp_indices[0])\n",
    "print('TN: ', tn_indices[0])\n",
    "print('FP: ', fp_indices[0])\n",
    "print('FN: ', fn_indices[0])"
   ],
   "id": "71ff9110005f7a4e",
   "outputs": [
    {
     "name": "stdout",
     "output_type": "stream",
     "text": [
      "TP:  735\n",
      "TN:  0\n",
      "FP:  7306\n",
      "FN:  1289\n"
     ]
    }
   ],
   "execution_count": 55
  },
  {
   "metadata": {
    "ExecuteTime": {
     "end_time": "2025-04-29T14:48:45.341004Z",
     "start_time": "2025-04-29T14:48:44.838567Z"
    }
   },
   "cell_type": "code",
   "source": "explain_lime(ext_clf, 0)",
   "id": "8346f4b4211514d3",
   "outputs": [
    {
     "data": {
      "text/plain": [
       "<Figure size 640x480 with 1 Axes>"
      ],
      "image/png": "[encoded data removed]"
     },
     "metadata": {},
     "output_type": "display_data"
    }
   ],
   "execution_count": 56
  },
  {
   "metadata": {
    "ExecuteTime": {
     "end_time": "2025-04-29T14:48:46.622808Z",
     "start_time": "2025-04-29T14:48:46.127841Z"
    }
   },
   "cell_type": "code",
   "source": "explain_lime(ext_clf, 735)",
   "id": "f97715b7cb2001f3",
   "outputs": [
    {
     "data": {
      "text/plain": [
       "<Figure size 640x480 with 1 Axes>"
      ],
      "image/png": "[encoded data removed]"
     },
     "metadata": {},
     "output_type": "display_data"
    }
   ],
   "execution_count": 57
  },
  {
   "metadata": {
    "ExecuteTime": {
     "end_time": "2025-04-29T14:48:47.586724Z",
     "start_time": "2025-04-29T14:48:47.088807Z"
    }
   },
   "cell_type": "code",
   "source": "explain_lime(ext_clf, 7306)",
   "id": "f0145b464002fa88",
   "outputs": [
    {
     "data": {
      "text/plain": [
       "<Figure size 640x480 with 1 Axes>"
      ],
      "image/png": "[encoded data removed]"
     },
     "metadata": {},
     "output_type": "display_data"
    }
   ],
   "execution_count": 58
  },
  {
   "metadata": {
    "ExecuteTime": {
     "end_time": "2025-04-29T14:48:48.476677Z",
     "start_time": "2025-04-29T14:48:47.988209Z"
    }
   },
   "cell_type": "code",
   "source": "explain_lime(ext_clf, 1289)",
   "id": "84261788e18d842c",
   "outputs": [
    {
     "data": {
      "text/plain": [
       "<Figure size 640x480 with 1 Axes>"
      ],
      "image/png": "[encoded data removed]"
     },
     "metadata": {},
     "output_type": "display_data"
    }
   ],
   "execution_count": 59
  },
  {
   "metadata": {
    "ExecuteTime": {
     "end_time": "2025-04-29T14:48:49.318843Z",
     "start_time": "2025-04-29T14:48:48.835065Z"
    }
   },
   "cell_type": "code",
   "source": "explain_lime(ext_clf, 10)",
   "id": "192625884810b943",
   "outputs": [
    {
     "data": {
      "text/plain": [
       "<Figure size 640x480 with 1 Axes>"
      ],
      "image/png": "[encoded data removed]"
     },
     "metadata": {},
     "output_type": "display_data"
    }
   ],
   "execution_count": 60
  },
  {
   "metadata": {
    "ExecuteTime": {
     "end_time": "2025-04-29T14:48:51.016798Z",
     "start_time": "2025-04-29T14:48:50.521364Z"
    }
   },
   "cell_type": "code",
   "source": "explain_lime(ext_clf)",
   "id": "27b3cfbfe92d114d",
   "outputs": [
    {
     "data": {
      "text/plain": [
       "<Figure size 640x480 with 1 Axes>"
      ],
      "image/png": "[encoded data removed]"
     },
     "metadata": {},
     "output_type": "display_data"
    }
   ],
   "execution_count": 61
  }
 ],
 "metadata": {
  "kernelspec": {
   "display_name": "Python 3",
   "language": "python",
   "name": "python3"
  },
  "language_info": {
   "codemirror_mode": {
    "name": "ipython",
    "version": 2
   },
   "file_extension": ".py",
   "mimetype": "text/x-python",
   "name": "python",
   "nbconvert_exporter": "python",
   "pygments_lexer": "ipython2",
   "version": "2.7.6"
  },
  "colab": {
   "provenance": []
  }
 },
 "nbformat": 4,
 "nbformat_minor": 5
}
